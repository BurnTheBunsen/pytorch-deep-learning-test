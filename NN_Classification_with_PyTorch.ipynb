{
 "nbformat": 4,
 "nbformat_minor": 0,
 "metadata": {
  "colab": {
   "provenance": [],
   "gpuType": "T4",
   "authorship_tag": "ABX9TyPsRmywVXGwzwKuJ4Q+o4Q6",
   "include_colab_link": true
  },
  "kernelspec": {
   "name": "python3",
   "display_name": "Python 3 (ipykernel)",
   "language": "python"
  },
  "language_info": {
   "name": "python"
  },
  "accelerator": "GPU"
 },
 "cells": [
  {
   "cell_type": "markdown",
   "source": [
    "## Neural Network classification with PyTorch"
   ],
   "metadata": {
    "id": "-BTE6dquaiMl"
   }
  },
  {
   "cell_type": "markdown",
   "source": [
    "### 1. Make classification data and get it ready"
   ],
   "metadata": {
    "id": "IbKWIn2za5bA"
   }
  },
  {
   "cell_type": "code",
   "source": [
    "import torch\n",
    "from torch import nn\n",
    "import numpy as np\n",
    "import sklearn"
   ],
   "metadata": {
    "id": "fFzHdv42bBcg",
    "ExecuteTime": {
     "end_time": "2025-10-27T10:36:39.707702Z",
     "start_time": "2025-10-27T10:36:29.336464Z"
    }
   },
   "outputs": [],
   "execution_count": 2
  },
  {
   "cell_type": "code",
   "source": [
    "from sklearn.datasets import make_circles\n",
    "\n",
    "# Make a 1000 samples\n",
    "n_samples = 1000\n",
    "\n",
    "# Create circles\n",
    "X, y = make_circles(n_samples,\n",
    "                    noise=0.03,\n",
    "                    random_state=42)"
   ],
   "metadata": {
    "id": "IotvTgKFbHSh",
    "ExecuteTime": {
     "end_time": "2025-10-27T10:36:40.003579Z",
     "start_time": "2025-10-27T10:36:39.714677Z"
    }
   },
   "outputs": [],
   "execution_count": 3
  },
  {
   "cell_type": "code",
   "source": [
    "len(X), len(y)"
   ],
   "metadata": {
    "colab": {
     "base_uri": "https://localhost:8080/"
    },
    "id": "r0A7Jm7EbZYU",
    "outputId": "abe378cc-4e75-4a86-b6b0-e5fd918b12d2",
    "ExecuteTime": {
     "end_time": "2025-10-27T10:36:40.019950Z",
     "start_time": "2025-10-27T10:36:40.006112Z"
    }
   },
   "outputs": [
    {
     "data": {
      "text/plain": [
       "(1000, 1000)"
      ]
     },
     "execution_count": 4,
     "metadata": {},
     "output_type": "execute_result"
    }
   ],
   "execution_count": 4
  },
  {
   "cell_type": "code",
   "source": [
    "print(f\"First 5 samples of X: {X[:5]}\")\n",
    "print(f\"First 5 samples of X: {y[:5]}\")"
   ],
   "metadata": {
    "colab": {
     "base_uri": "https://localhost:8080/"
    },
    "id": "l4AkIRnobcE_",
    "outputId": "15d0df4e-3f37-43af-c6c4-76aa2b7e6ca7",
    "ExecuteTime": {
     "end_time": "2025-10-27T10:36:40.043781Z",
     "start_time": "2025-10-27T10:36:40.037186Z"
    }
   },
   "outputs": [
    {
     "name": "stdout",
     "output_type": "stream",
     "text": [
      "First 5 samples of X: [[ 0.75424625  0.23148074]\n",
      " [-0.75615888  0.15325888]\n",
      " [-0.81539193  0.17328203]\n",
      " [-0.39373073  0.69288277]\n",
      " [ 0.44220765 -0.89672343]]\n",
      "First 5 samples of X: [1 1 1 1 0]\n"
     ]
    }
   ],
   "execution_count": 5
  },
  {
   "cell_type": "code",
   "source": [
    "X[0,0]"
   ],
   "metadata": {
    "colab": {
     "base_uri": "https://localhost:8080/"
    },
    "id": "lYTGwJIGirF_",
    "outputId": "f6c23e8b-3f28-453d-c955-6b4bb8e57a08",
    "ExecuteTime": {
     "end_time": "2025-10-27T10:36:40.064915Z",
     "start_time": "2025-10-27T10:36:40.061022Z"
    }
   },
   "outputs": [
    {
     "data": {
      "text/plain": [
       "0.7542462506997276"
      ]
     },
     "execution_count": 6,
     "metadata": {},
     "output_type": "execute_result"
    }
   ],
   "execution_count": 6
  },
  {
   "cell_type": "code",
   "source": [
    "# Make a DataFrame of circle data\n",
    "import pandas as pd\n",
    "circles = pd.DataFrame({\"X1\": X[:,0],\n",
    "                        \"X2\": X[:,1],\n",
    "                        \"label\": y})\n",
    "circles.head(10)"
   ],
   "metadata": {
    "colab": {
     "base_uri": "https://localhost:8080/",
     "height": 363
    },
    "id": "PHrDLdhPbyUV",
    "outputId": "25a90c7c-1b58-455a-c7fa-31fea1c85813",
    "ExecuteTime": {
     "end_time": "2025-10-27T10:36:40.101637Z",
     "start_time": "2025-10-27T10:36:40.084204Z"
    }
   },
   "outputs": [
    {
     "data": {
      "text/plain": [
       "         X1        X2  label\n",
       "0  0.754246  0.231481      1\n",
       "1 -0.756159  0.153259      1\n",
       "2 -0.815392  0.173282      1\n",
       "3 -0.393731  0.692883      1\n",
       "4  0.442208 -0.896723      0\n",
       "5 -0.479646  0.676435      1\n",
       "6 -0.013648  0.803349      1\n",
       "7  0.771513  0.147760      1\n",
       "8 -0.169322 -0.793456      1\n",
       "9 -0.121486  1.021509      0"
      ],
      "text/html": [
       "<div>\n",
       "<style scoped>\n",
       "    .dataframe tbody tr th:only-of-type {\n",
       "        vertical-align: middle;\n",
       "    }\n",
       "\n",
       "    .dataframe tbody tr th {\n",
       "        vertical-align: top;\n",
       "    }\n",
       "\n",
       "    .dataframe thead th {\n",
       "        text-align: right;\n",
       "    }\n",
       "</style>\n",
       "<table border=\"1\" class=\"dataframe\">\n",
       "  <thead>\n",
       "    <tr style=\"text-align: right;\">\n",
       "      <th></th>\n",
       "      <th>X1</th>\n",
       "      <th>X2</th>\n",
       "      <th>label</th>\n",
       "    </tr>\n",
       "  </thead>\n",
       "  <tbody>\n",
       "    <tr>\n",
       "      <th>0</th>\n",
       "      <td>0.754246</td>\n",
       "      <td>0.231481</td>\n",
       "      <td>1</td>\n",
       "    </tr>\n",
       "    <tr>\n",
       "      <th>1</th>\n",
       "      <td>-0.756159</td>\n",
       "      <td>0.153259</td>\n",
       "      <td>1</td>\n",
       "    </tr>\n",
       "    <tr>\n",
       "      <th>2</th>\n",
       "      <td>-0.815392</td>\n",
       "      <td>0.173282</td>\n",
       "      <td>1</td>\n",
       "    </tr>\n",
       "    <tr>\n",
       "      <th>3</th>\n",
       "      <td>-0.393731</td>\n",
       "      <td>0.692883</td>\n",
       "      <td>1</td>\n",
       "    </tr>\n",
       "    <tr>\n",
       "      <th>4</th>\n",
       "      <td>0.442208</td>\n",
       "      <td>-0.896723</td>\n",
       "      <td>0</td>\n",
       "    </tr>\n",
       "    <tr>\n",
       "      <th>5</th>\n",
       "      <td>-0.479646</td>\n",
       "      <td>0.676435</td>\n",
       "      <td>1</td>\n",
       "    </tr>\n",
       "    <tr>\n",
       "      <th>6</th>\n",
       "      <td>-0.013648</td>\n",
       "      <td>0.803349</td>\n",
       "      <td>1</td>\n",
       "    </tr>\n",
       "    <tr>\n",
       "      <th>7</th>\n",
       "      <td>0.771513</td>\n",
       "      <td>0.147760</td>\n",
       "      <td>1</td>\n",
       "    </tr>\n",
       "    <tr>\n",
       "      <th>8</th>\n",
       "      <td>-0.169322</td>\n",
       "      <td>-0.793456</td>\n",
       "      <td>1</td>\n",
       "    </tr>\n",
       "    <tr>\n",
       "      <th>9</th>\n",
       "      <td>-0.121486</td>\n",
       "      <td>1.021509</td>\n",
       "      <td>0</td>\n",
       "    </tr>\n",
       "  </tbody>\n",
       "</table>\n",
       "</div>"
      ]
     },
     "execution_count": 7,
     "metadata": {},
     "output_type": "execute_result"
    }
   ],
   "execution_count": 7
  },
  {
   "cell_type": "code",
   "source": [
    "# Let's visualize it\n",
    "import matplotlib.pyplot as plt\n",
    "plt.scatter(x=X[:, 0],\n",
    "            y=X[:, 1],\n",
    "            c=y,\n",
    "            cmap=plt.cm.RdYlBu)"
   ],
   "metadata": {
    "colab": {
     "base_uri": "https://localhost:8080/",
     "height": 447
    },
    "id": "GwlWqHU1cfVY",
    "outputId": "8fde716e-a18d-46df-aae1-6931fddc91da",
    "ExecuteTime": {
     "end_time": "2025-10-27T10:36:41.377707Z",
     "start_time": "2025-10-27T10:36:40.110725Z"
    }
   },
   "outputs": [
    {
     "data": {
      "text/plain": [
       "<matplotlib.collections.PathCollection at 0x252225fa540>"
      ]
     },
     "execution_count": 8,
     "metadata": {},
     "output_type": "execute_result"
    },
    {
     "data": {
      "text/plain": [
       "<Figure size 640x480 with 1 Axes>"
      ],
      "image/png": "[encoded data removed]"
     },
     "metadata": {},
     "output_type": "display_data",
     "jetTransient": {
      "display_id": null
     }
    }
   ],
   "execution_count": 8
  },
  {
   "cell_type": "markdown",
   "source": [
    "Note that tthe data we're working with is often referred to as a toy dataset, a dataset that is small enough to experiment on but still sizeable enough to practice the fundamentals."
   ],
   "metadata": {
    "id": "4CMMIAIjdN5H"
   }
  },
  {
   "cell_type": "markdown",
   "source": [
    "## 1.1 Check input and output shapes\n",
    "\n"
   ],
   "metadata": {
    "id": "YRZCE43yiHzC"
   }
  },
  {
   "cell_type": "code",
   "source": [
    "X.shape, y.shape"
   ],
   "metadata": {
    "colab": {
     "base_uri": "https://localhost:8080/"
    },
    "id": "DauxJwwSl_M7",
    "outputId": "cde1eda5-a4d9-405b-e850-1680c3cf6cc8",
    "ExecuteTime": {
     "end_time": "2025-10-27T10:36:41.395405Z",
     "start_time": "2025-10-27T10:36:41.391790Z"
    }
   },
   "outputs": [
    {
     "data": {
      "text/plain": [
       "((1000, 2), (1000,))"
      ]
     },
     "execution_count": 9,
     "metadata": {},
     "output_type": "execute_result"
    }
   ],
   "execution_count": 9
  },
  {
   "cell_type": "code",
   "source": [
    "# View the first example of the features and labels\n",
    "X_sample =  X[0]\n",
    "y_sample = y[0]\n",
    "print(f\"Value for one sample of X: {X_sample} and the same for y: {y_sample}\")\n",
    "print(f\"Shapes for one sample of X: {X_sample.shape} and the same for y: {y_sample.shape}\")"
   ],
   "metadata": {
    "colab": {
     "base_uri": "https://localhost:8080/"
    },
    "id": "l98wjYkMmCeT",
    "outputId": "4e083c58-c477-4461-8813-9118a2b4f001",
    "ExecuteTime": {
     "end_time": "2025-10-27T10:36:41.418221Z",
     "start_time": "2025-10-27T10:36:41.406019Z"
    }
   },
   "outputs": [
    {
     "name": "stdout",
     "output_type": "stream",
     "text": [
      "Value for one sample of X: [0.75424625 0.23148074] and the same for y: 1\n",
      "Shapes for one sample of X: (2,) and the same for y: ()\n"
     ]
    }
   ],
   "execution_count": 10
  },
  {
   "cell_type": "markdown",
   "source": [
    "## 1.2 Turn data into tensors and create train and test splits"
   ],
   "metadata": {
    "id": "lCWKrVYFmbYn"
   }
  },
  {
   "cell_type": "code",
   "source": [
    "X = torch.from_numpy(X).type(torch.float)\n",
    "y = torch.from_numpy(y).type(torch.float)\n",
    "\n",
    "X[:5], y[:5]"
   ],
   "metadata": {
    "colab": {
     "base_uri": "https://localhost:8080/"
    },
    "id": "1Oeaju_RoRTF",
    "outputId": "fab8cf09-ff40-4d6d-a630-9518d8201ae7",
    "ExecuteTime": {
     "end_time": "2025-10-27T10:36:41.500739Z",
     "start_time": "2025-10-27T10:36:41.439309Z"
    }
   },
   "outputs": [
    {
     "data": {
      "text/plain": [
       "(tensor([[ 0.7542,  0.2315],\n",
       "         [-0.7562,  0.1533],\n",
       "         [-0.8154,  0.1733],\n",
       "         [-0.3937,  0.6929],\n",
       "         [ 0.4422, -0.8967]]),\n",
       " tensor([1., 1., 1., 1., 0.]))"
      ]
     },
     "execution_count": 11,
     "metadata": {},
     "output_type": "execute_result"
    }
   ],
   "execution_count": 11
  },
  {
   "cell_type": "code",
   "source": [
    "X.dtype, y.dtype"
   ],
   "metadata": {
    "colab": {
     "base_uri": "https://localhost:8080/"
    },
    "id": "F3ha82nuoxm7",
    "outputId": "9fecbf88-22b1-4c8b-93f8-539f4c67be90",
    "ExecuteTime": {
     "end_time": "2025-10-27T10:36:41.515865Z",
     "start_time": "2025-10-27T10:36:41.511705Z"
    }
   },
   "outputs": [
    {
     "data": {
      "text/plain": [
       "(torch.float32, torch.float32)"
      ]
     },
     "execution_count": 12,
     "metadata": {},
     "output_type": "execute_result"
    }
   ],
   "execution_count": 12
  },
  {
   "cell_type": "code",
   "source": [
    "# Split data into training and test sets\n",
    "from sklearn.model_selection import train_test_split\n",
    "\n",
    "X_train, X_test, y_train, y_test = train_test_split(X,\n",
    "                                                    y,\n",
    "                                                    test_size=0.2, #20% will be test and the rest will be train\n",
    "                                                    random_state=42)"
   ],
   "metadata": {
    "id": "g-EZRenQo0v5",
    "ExecuteTime": {
     "end_time": "2025-10-27T10:36:41.965832Z",
     "start_time": "2025-10-27T10:36:41.534924Z"
    }
   },
   "outputs": [],
   "execution_count": 13
  },
  {
   "cell_type": "code",
   "source": [
    "len(X_train), len(X_test), len(y_train), len(y_test)"
   ],
   "metadata": {
    "colab": {
     "base_uri": "https://localhost:8080/"
    },
    "id": "VWyddcHlpxup",
    "outputId": "c3c907f6-65e9-4a9e-bdf9-dc14d47f3cc6",
    "ExecuteTime": {
     "end_time": "2025-10-27T10:36:41.977495Z",
     "start_time": "2025-10-27T10:36:41.972812Z"
    }
   },
   "outputs": [
    {
     "data": {
      "text/plain": [
       "(800, 200, 800, 200)"
      ]
     },
     "execution_count": 14,
     "metadata": {},
     "output_type": "execute_result"
    }
   ],
   "execution_count": 14
  },
  {
   "cell_type": "markdown",
   "source": [
    "## 2. Building a model\n",
    "\n",
    "Lets build a model to classify our blue and red dots.\n",
    "\n",
    "To do so we want to:\n",
    "1. Setup device agnostic code\n",
    "2. Construct a model\n",
    "  * subclass `nn.Module`\n",
    "  * Create two `nn.Linear` layers that are capable of handling the shapes of out data\n",
    "  * Define a forward method that oulines the forward pass or forward computation of the model\n",
    "  * We want to instantiate an instance of our model class and send it to our device\n",
    "3. Define a loss function and optimizer\n",
    "4. Create a training and testing loop"
   ],
   "metadata": {
    "id": "9grmOW9Kp4Up"
   }
  },
  {
   "cell_type": "code",
   "source": [
    "# 1\n",
    "device = \"cuda\" if torch.cuda.is_available() else \"cpu\"\n",
    "device\n"
   ],
   "metadata": {
    "id": "o867tgRBF7OI",
    "ExecuteTime": {
     "end_time": "2025-10-27T10:36:42.043250Z",
     "start_time": "2025-10-27T10:36:41.995437Z"
    }
   },
   "outputs": [
    {
     "data": {
      "text/plain": [
       "'cuda'"
      ]
     },
     "execution_count": 15,
     "metadata": {},
     "output_type": "execute_result"
    }
   ],
   "execution_count": 15
  },
  {
   "cell_type": "code",
   "source": [
    "# 2\n",
    "class CircleModelV0(nn.Module):\n",
    "  def __init__(self):\n",
    "    super().__init__()\n",
    "    # 2.2 Create two nn.Linear layers that are capable of handling the shapes of our data\n",
    "    self.layer_1 = nn.Linear(in_features=2,\n",
    "                             out_features=5)\n",
    "    self.layer_2 = nn.Linear(in_features=5,\n",
    "                             out_features=1)\n",
    "  def forward(self, x):\n",
    "    return self.layer_2(self.layer_1(x)) # x -> layer_1 -> layer_2 -> output\n",
    "\n",
    "model_0 = CircleModelV0().to(device)\n",
    "model_0"
   ],
   "metadata": {
    "colab": {
     "base_uri": "https://localhost:8080/"
    },
    "id": "NMBvg3xcGD5p",
    "outputId": "cf89296a-aa05-4814-a928-647f21d0d284",
    "ExecuteTime": {
     "end_time": "2025-10-27T10:36:42.158407Z",
     "start_time": "2025-10-27T10:36:42.052223Z"
    }
   },
   "outputs": [
    {
     "data": {
      "text/plain": [
       "CircleModelV0(\n",
       "  (layer_1): Linear(in_features=2, out_features=5, bias=True)\n",
       "  (layer_2): Linear(in_features=5, out_features=1, bias=True)\n",
       ")"
      ]
     },
     "execution_count": 16,
     "metadata": {},
     "output_type": "execute_result"
    }
   ],
   "execution_count": 16
  },
  {
   "cell_type": "code",
   "source": "next(model_0.parameters()).device",
   "metadata": {
    "colab": {
     "base_uri": "https://localhost:8080/"
    },
    "id": "62F0rRqfJwUZ",
    "outputId": "b2b2ff49-f7ee-4600-bcf5-8a40165d4340",
    "ExecuteTime": {
     "end_time": "2025-10-27T10:36:42.188841Z",
     "start_time": "2025-10-27T10:36:42.185320Z"
    }
   },
   "outputs": [
    {
     "data": {
      "text/plain": [
       "device(type='cuda', index=0)"
      ]
     },
     "execution_count": 17,
     "metadata": {},
     "output_type": "execute_result"
    }
   ],
   "execution_count": 17
  },
  {
   "cell_type": "code",
   "source": [
    "# Let's replicate the model above using nn.Sequential()\n",
    "model_0 = nn.Sequential(\n",
    "    nn.Linear(in_features=2,\n",
    "              out_features=5),\n",
    "    nn.Linear(in_features=5,\n",
    "              out_features=1)\n",
    ").to(device)\n",
    "\n",
    "model_0"
   ],
   "metadata": {
    "colab": {
     "base_uri": "https://localhost:8080/"
    },
    "id": "jaC5tF7BJ8Eh",
    "outputId": "6314e6f2-49a0-4b20-dc8f-b5c6836107b2",
    "ExecuteTime": {
     "end_time": "2025-10-27T10:36:42.221145Z",
     "start_time": "2025-10-27T10:36:42.213761Z"
    }
   },
   "outputs": [
    {
     "data": {
      "text/plain": [
       "Sequential(\n",
       "  (0): Linear(in_features=2, out_features=5, bias=True)\n",
       "  (1): Linear(in_features=5, out_features=1, bias=True)\n",
       ")"
      ]
     },
     "execution_count": 18,
     "metadata": {},
     "output_type": "execute_result"
    }
   ],
   "execution_count": 18
  },
  {
   "cell_type": "code",
   "source": [
    "model_0.state_dict()"
   ],
   "metadata": {
    "colab": {
     "base_uri": "https://localhost:8080/"
    },
    "id": "PEBwqC9eVxZq",
    "outputId": "1463d402-533a-44ba-ff80-1add4a751f03",
    "ExecuteTime": {
     "end_time": "2025-10-27T10:36:42.426122Z",
     "start_time": "2025-10-27T10:36:42.265002Z"
    }
   },
   "outputs": [
    {
     "data": {
      "text/plain": [
       "OrderedDict([('0.weight',\n",
       "              tensor([[-0.3627,  0.0145],\n",
       "                      [-0.4396,  0.4788],\n",
       "                      [ 0.5206, -0.4167],\n",
       "                      [ 0.4158, -0.4622],\n",
       "                      [-0.6838,  0.2291]], device='cuda:0')),\n",
       "             ('0.bias',\n",
       "              tensor([ 0.5378,  0.4770,  0.0715, -0.5512, -0.5755], device='cuda:0')),\n",
       "             ('1.weight',\n",
       "              tensor([[ 0.3249,  0.2722,  0.0189, -0.3911,  0.2920]], device='cuda:0')),\n",
       "             ('1.bias', tensor([-0.2940], device='cuda:0'))])"
      ]
     },
     "execution_count": 19,
     "metadata": {},
     "output_type": "execute_result"
    }
   ],
   "execution_count": 19
  },
  {
   "cell_type": "code",
   "source": [
    "# Make some predictions\n",
    "with torch.inference_mode():\n",
    "  untrained_preds = model_0(X_test.to(device))\n",
    "  print(f'Length of predictions: {len(untrained_preds)}, shape: {untrained_preds.shape}')\n",
    "  print(f\"Length of test samples: {len(X_test)}, shape: {X_test.shape}\")\n",
    "  print(f'\\nFirst 10 predictions: {untrained_preds[:10]}')\n",
    "  print(f'\\nFirst 10 labels: {y_train[:10]}')"
   ],
   "metadata": {
    "colab": {
     "base_uri": "https://localhost:8080/"
    },
    "id": "yjV9CwgIU5z8",
    "outputId": "ff3530b1-8047-4d46-e157-f6d8195da3de",
    "ExecuteTime": {
     "end_time": "2025-10-27T10:36:42.536333Z",
     "start_time": "2025-10-27T10:36:42.433117Z"
    }
   },
   "outputs": [
    {
     "name": "stdout",
     "output_type": "stream",
     "text": [
      "Length of predictions: 200, shape: torch.Size([200, 1])\n",
      "Length of test samples: 200, shape: torch.Size([200, 2])\n",
      "\n",
      "First 10 predictions: tensor([[ 0.5368],\n",
      "        [ 0.4103],\n",
      "        [ 0.3562],\n",
      "        [ 0.5901],\n",
      "        [-0.4567],\n",
      "        [-0.5276],\n",
      "        [-0.2394],\n",
      "        [-0.4611],\n",
      "        [ 0.3908],\n",
      "        [ 0.3928]], device='cuda:0')\n",
      "\n",
      "First 10 labels: tensor([1., 0., 0., 0., 1., 0., 1., 1., 0., 0.])\n"
     ]
    }
   ],
   "execution_count": 20
  },
  {
   "metadata": {
    "id": "yvYLGLyaW9_2",
    "ExecuteTime": {
     "end_time": "2025-10-24T14:38:18.866454Z",
     "start_time": "2025-10-24T14:38:18.864035Z"
    }
   },
   "cell_type": "markdown",
   "source": [
    "### 2.1 Setup loss function and optimizer\n",
    "\n",
    "Which loss function or optimizer should we use here?(for this specific problem)\n",
    "For example for regression we might want to use MAE or MSE\n",
    "\n",
    "For classification we might want binary cross entropy or categorical cross entropy.\n",
    "\n",
    "And for optimizers, two of the most common and useful are SGD and Adam, however PyTorch has a lot of options.\n",
    "\n",
    "* For the loss function we are going to use `torch.nn.BCEWithLogitsLoss()`."
   ]
  },
  {
   "metadata": {
    "ExecuteTime": {
     "end_time": "2025-10-27T10:36:44.170692Z",
     "start_time": "2025-10-27T10:36:42.542322Z"
    }
   },
   "cell_type": "code",
   "source": [
    "# Setup the loss function\n",
    "loss_fn = nn.BCEWithLogitsLoss() # BCEWithLogitsLoss = sigmoid activation function built in\n",
    "optimizer = torch.optim.SGD(params=model_0.parameters(),\n",
    "                            lr=0.1)"
   ],
   "outputs": [],
   "execution_count": 21
  },
  {
   "metadata": {
    "ExecuteTime": {
     "end_time": "2025-10-27T10:36:44.181074Z",
     "start_time": "2025-10-27T10:36:44.178116Z"
    }
   },
   "cell_type": "code",
   "source": [
    "# Calculate accuracy\n",
    "def accuracy_fn(y_true, y_pred):\n",
    "    correct = torch.eq(y_true, y_pred).sum().item()\n",
    "    acc = (correct/len(y_pred)) * 100\n",
    "    return acc"
   ],
   "outputs": [],
   "execution_count": 22
  },
  {
   "metadata": {
    "ExecuteTime": {
     "end_time": "2025-10-24T17:08:52.576392Z",
     "start_time": "2025-10-24T17:08:52.569088Z"
    }
   },
   "cell_type": "markdown",
   "source": [
    "### 3. Train model\n",
    "\n",
    "To train our model, we are going to need to build a training loop with the following steps:\n",
    "\n",
    "1. Forward pass\n",
    "2. Calculate the loss\n",
    "3. Optimizer zero\n",
    "4. Loss backward (Backprop)\n",
    "5. Optimizer step (Gradient descent)"
   ]
  },
  {
   "metadata": {},
   "cell_type": "markdown",
   "source": [
    "## 3.1  Going from raw logits -> prediction probabilities -> prediction labels\n",
    "\n",
    "Our model outputs are going to be raw **logits**.\n",
    "\n",
    "We can convert these **logits** into **prediction probabilities** by passing them to some kind of acivation function (e.g. sigmoid for binary crossentropy and softmax for multiclass classification).\n",
    "\n",
    "Then we can convert our model's prediction probabilities to prediction labels by either rounding them (this is for binary classification) or taking the `argmax()` (this is for the outputs of softmax activation function)."
   ]
  },
  {
   "metadata": {
    "ExecuteTime": {
     "end_time": "2025-10-27T10:36:44.198823Z",
     "start_time": "2025-10-27T10:36:44.190049Z"
    }
   },
   "cell_type": "code",
   "source": [
    "# View the first 5 outputs of the forward pass on the test data\n",
    "model_0.eval()\n",
    "with torch.inference_mode():\n",
    "    y_logits = model_0(X_test.to(device))\n",
    "y_logits[:5]"
   ],
   "outputs": [
    {
     "data": {
      "text/plain": [
       "tensor([[ 0.5368],\n",
       "        [ 0.4103],\n",
       "        [ 0.3562],\n",
       "        [ 0.5901],\n",
       "        [-0.4567]], device='cuda:0')"
      ]
     },
     "execution_count": 23,
     "metadata": {},
     "output_type": "execute_result"
    }
   ],
   "execution_count": 23
  },
  {
   "metadata": {
    "ExecuteTime": {
     "end_time": "2025-10-27T10:36:44.215844Z",
     "start_time": "2025-10-27T10:36:44.211050Z"
    }
   },
   "cell_type": "code",
   "source": "y_test[:5]",
   "outputs": [
    {
     "data": {
      "text/plain": [
       "tensor([1., 0., 1., 0., 1.])"
      ]
     },
     "execution_count": 24,
     "metadata": {},
     "output_type": "execute_result"
    }
   ],
   "execution_count": 24
  },
  {
   "metadata": {
    "ExecuteTime": {
     "end_time": "2025-10-27T10:36:44.273837Z",
     "start_time": "2025-10-27T10:36:44.231992Z"
    }
   },
   "cell_type": "code",
   "source": [
    "# Use the sigomid activation function on our binary logits\n",
    "y_pred_probs = torch.sigmoid(y_logits)\n",
    "y_pred_probs"
   ],
   "outputs": [
    {
     "data": {
      "text/plain": [
       "tensor([[0.6311],\n",
       "        [0.6012],\n",
       "        [0.5881],\n",
       "        [0.6434],\n",
       "        [0.3878],\n",
       "        [0.3711],\n",
       "        [0.4404],\n",
       "        [0.3867],\n",
       "        [0.5965],\n",
       "        [0.5970],\n",
       "        [0.6530],\n",
       "        [0.6128],\n",
       "        [0.4072],\n",
       "        [0.5471],\n",
       "        [0.6236],\n",
       "        [0.3961],\n",
       "        [0.5222],\n",
       "        [0.6749],\n",
       "        [0.6460],\n",
       "        [0.6738],\n",
       "        [0.6040],\n",
       "        [0.3502],\n",
       "        [0.6489],\n",
       "        [0.6876],\n",
       "        [0.4909],\n",
       "        [0.4178],\n",
       "        [0.4592],\n",
       "        [0.3446],\n",
       "        [0.6352],\n",
       "        [0.5172],\n",
       "        [0.4688],\n",
       "        [0.5041],\n",
       "        [0.6498],\n",
       "        [0.4284],\n",
       "        [0.6624],\n",
       "        [0.5698],\n",
       "        [0.6283],\n",
       "        [0.5604],\n",
       "        [0.4524],\n",
       "        [0.5332],\n",
       "        [0.6526],\n",
       "        [0.6178],\n",
       "        [0.5178],\n",
       "        [0.3730],\n",
       "        [0.6551],\n",
       "        [0.5605],\n",
       "        [0.3639],\n",
       "        [0.6110],\n",
       "        [0.5761],\n",
       "        [0.3780],\n",
       "        [0.6452],\n",
       "        [0.6560],\n",
       "        [0.3508],\n",
       "        [0.3868],\n",
       "        [0.4323],\n",
       "        [0.4766],\n",
       "        [0.4148],\n",
       "        [0.5584],\n",
       "        [0.6452],\n",
       "        [0.6677],\n",
       "        [0.3827],\n",
       "        [0.4072],\n",
       "        [0.6629],\n",
       "        [0.5286],\n",
       "        [0.6256],\n",
       "        [0.5932],\n",
       "        [0.3903],\n",
       "        [0.3672],\n",
       "        [0.5737],\n",
       "        [0.3661],\n",
       "        [0.3762],\n",
       "        [0.5626],\n",
       "        [0.6603],\n",
       "        [0.6114],\n",
       "        [0.3963],\n",
       "        [0.3803],\n",
       "        [0.4568],\n",
       "        [0.4651],\n",
       "        [0.6692],\n",
       "        [0.4997],\n",
       "        [0.6774],\n",
       "        [0.6247],\n",
       "        [0.3979],\n",
       "        [0.4552],\n",
       "        [0.6499],\n",
       "        [0.5317],\n",
       "        [0.3489],\n",
       "        [0.5255],\n",
       "        [0.4060],\n",
       "        [0.3511],\n",
       "        [0.5895],\n",
       "        [0.4412],\n",
       "        [0.4648],\n",
       "        [0.4011],\n",
       "        [0.5528],\n",
       "        [0.6789],\n",
       "        [0.5634],\n",
       "        [0.6327],\n",
       "        [0.6858],\n",
       "        [0.4191],\n",
       "        [0.6036],\n",
       "        [0.6268],\n",
       "        [0.5408],\n",
       "        [0.4168],\n",
       "        [0.6725],\n",
       "        [0.4215],\n",
       "        [0.4624],\n",
       "        [0.4638],\n",
       "        [0.5494],\n",
       "        [0.3922],\n",
       "        [0.5855],\n",
       "        [0.6451],\n",
       "        [0.5382],\n",
       "        [0.3764],\n",
       "        [0.3893],\n",
       "        [0.4636],\n",
       "        [0.4993],\n",
       "        [0.5680],\n",
       "        [0.4831],\n",
       "        [0.4403],\n",
       "        [0.6489],\n",
       "        [0.4370],\n",
       "        [0.3505],\n",
       "        [0.6523],\n",
       "        [0.3658],\n",
       "        [0.4780],\n",
       "        [0.5801],\n",
       "        [0.5125],\n",
       "        [0.6178],\n",
       "        [0.4710],\n",
       "        [0.6441],\n",
       "        [0.4393],\n",
       "        [0.4452],\n",
       "        [0.5670],\n",
       "        [0.5466],\n",
       "        [0.4161],\n",
       "        [0.4149],\n",
       "        [0.5050],\n",
       "        [0.6653],\n",
       "        [0.5273],\n",
       "        [0.5826],\n",
       "        [0.5053],\n",
       "        [0.6797],\n",
       "        [0.5763],\n",
       "        [0.5918],\n",
       "        [0.4056],\n",
       "        [0.4424],\n",
       "        [0.5786],\n",
       "        [0.5110],\n",
       "        [0.6368],\n",
       "        [0.3761],\n",
       "        [0.4752],\n",
       "        [0.6159],\n",
       "        [0.6292],\n",
       "        [0.3923],\n",
       "        [0.5411],\n",
       "        [0.4944],\n",
       "        [0.5855],\n",
       "        [0.5722],\n",
       "        [0.6267],\n",
       "        [0.6466],\n",
       "        [0.3918],\n",
       "        [0.5012],\n",
       "        [0.6680],\n",
       "        [0.5337],\n",
       "        [0.3697],\n",
       "        [0.3843],\n",
       "        [0.5671],\n",
       "        [0.3547],\n",
       "        [0.5417],\n",
       "        [0.5181],\n",
       "        [0.5413],\n",
       "        [0.4297],\n",
       "        [0.3590],\n",
       "        [0.4358],\n",
       "        [0.3487],\n",
       "        [0.3951],\n",
       "        [0.3819],\n",
       "        [0.5172],\n",
       "        [0.3810],\n",
       "        [0.3640],\n",
       "        [0.6270],\n",
       "        [0.5079],\n",
       "        [0.5150],\n",
       "        [0.6508],\n",
       "        [0.6811],\n",
       "        [0.6230],\n",
       "        [0.4119],\n",
       "        [0.6079],\n",
       "        [0.3900],\n",
       "        [0.6630],\n",
       "        [0.5753],\n",
       "        [0.5184],\n",
       "        [0.5054],\n",
       "        [0.5189],\n",
       "        [0.4579],\n",
       "        [0.6440],\n",
       "        [0.3700],\n",
       "        [0.6490],\n",
       "        [0.5430]], device='cuda:0')"
      ]
     },
     "execution_count": 25,
     "metadata": {},
     "output_type": "execute_result"
    }
   ],
   "execution_count": 25
  },
  {
   "metadata": {},
   "cell_type": "markdown",
   "source": "For our prediction probability values, we need to preform a range-style rounding on them."
  },
  {
   "metadata": {
    "ExecuteTime": {
     "end_time": "2025-10-27T10:36:44.300840Z",
     "start_time": "2025-10-27T10:36:44.285816Z"
    }
   },
   "cell_type": "code",
   "source": [
    "# Find the predicted labels\n",
    "y_preds = torch.round(y_pred_probs)[:5]\n",
    "# In full (logits -> pred probs -> pred labels)\n",
    "y_pred_labels = torch.round(torch.sigmoid(model_0(X_test.to(device))[:5]))\n",
    "# Check for equality\n",
    "print(torch.eq(y_preds.squeeze(), y_pred_labels.squeeze()))\n",
    "# Get rid of extra dimension once again\n",
    "y_preds.squeeze()"
   ],
   "outputs": [
    {
     "name": "stdout",
     "output_type": "stream",
     "text": [
      "tensor([True, True, True, True, True], device='cuda:0')\n"
     ]
    },
    {
     "data": {
      "text/plain": [
       "tensor([1., 1., 1., 1., 0.], device='cuda:0')"
      ]
     },
     "execution_count": 26,
     "metadata": {},
     "output_type": "execute_result"
    }
   ],
   "execution_count": 26
  },
  {
   "metadata": {
    "ExecuteTime": {
     "end_time": "2025-10-27T10:36:44.319824Z",
     "start_time": "2025-10-27T10:36:44.314798Z"
    }
   },
   "cell_type": "code",
   "source": "y_test[:5]",
   "outputs": [
    {
     "data": {
      "text/plain": [
       "tensor([1., 0., 1., 0., 1.])"
      ]
     },
     "execution_count": 27,
     "metadata": {},
     "output_type": "execute_result"
    }
   ],
   "execution_count": 27
  },
  {
   "metadata": {},
   "cell_type": "markdown",
   "source": "### 3.2 Building a training and testing loop"
  },
  {
   "metadata": {
    "ExecuteTime": {
     "end_time": "2025-10-27T10:36:44.669159Z",
     "start_time": "2025-10-27T10:36:44.337292Z"
    }
   },
   "cell_type": "code",
   "source": [
    "torch.cuda.manual_seed(42)\n",
    "torch.manual_seed(42)\n",
    "\n",
    "epochs = 100\n",
    "X_train = X_train.to(device)\n",
    "X_test = X_test.to(device)\n",
    "y_train = y_train.to(device)\n",
    "y_test = y_test.to(device)\n",
    "for epoch in range(epochs):\n",
    "    model_0.train()\n",
    "    y_logits = model_0(X_train).squeeze()\n",
    "    y_pred = torch.round(torch.sigmoid(y_logits)) # Turn logits into pred probs into pred labels\n",
    "    loss = loss_fn(y_logits, y_train) # nn.BCEWithLogitsLoss\n",
    "    acc = accuracy_fn(y_true=y_train,\n",
    "                      y_pred=y_pred)\n",
    "    optimizer.zero_grad()\n",
    "    loss.backward()\n",
    "    optimizer.step()\n",
    "\n",
    "    model_0.eval()\n",
    "    with torch.inference_mode():\n",
    "        test_logits = model_0(X_test).squeeze()\n",
    "        test_pred = torch.round(torch.sigmoid(test_logits))\n",
    "        test_loss = loss_fn(test_logits, y_test)\n",
    "        test_acc = accuracy_fn(y_true=y_test,\n",
    "                               y_pred=test_pred)\n",
    "    if epoch % 10 == 0:\n",
    "        print(f'Epoch: {epoch} | Loss: {loss:.5f}, Acc: {acc:.2f}% | Test Loss: {test_loss:.5f}, Test Acc: {test_acc:.2f}%')"
   ],
   "outputs": [
    {
     "name": "stdout",
     "output_type": "stream",
     "text": [
      "Epoch: 0 | Loss: 0.71808, Acc: 49.75% | Test Loss: 0.71709, Test Acc: 53.00%\n",
      "Epoch: 10 | Loss: 0.70903, Acc: 50.00% | Test Loss: 0.70860, Test Acc: 55.00%\n",
      "Epoch: 20 | Loss: 0.70371, Acc: 49.50% | Test Loss: 0.70358, Test Acc: 54.00%\n",
      "Epoch: 30 | Loss: 0.70033, Acc: 49.75% | Test Loss: 0.70038, Test Acc: 51.50%\n",
      "Epoch: 40 | Loss: 0.69811, Acc: 50.00% | Test Loss: 0.69825, Test Acc: 50.50%\n",
      "Epoch: 50 | Loss: 0.69661, Acc: 49.75% | Test Loss: 0.69679, Test Acc: 50.50%\n",
      "Epoch: 60 | Loss: 0.69557, Acc: 49.75% | Test Loss: 0.69577, Test Acc: 50.50%\n",
      "Epoch: 70 | Loss: 0.69486, Acc: 49.75% | Test Loss: 0.69506, Test Acc: 50.50%\n",
      "Epoch: 80 | Loss: 0.69436, Acc: 49.62% | Test Loss: 0.69456, Test Acc: 50.50%\n",
      "Epoch: 90 | Loss: 0.69400, Acc: 49.62% | Test Loss: 0.69420, Test Acc: 51.00%\n"
     ]
    }
   ],
   "execution_count": 28
  },
  {
   "metadata": {},
   "cell_type": "markdown",
   "source": [
    "## 4. Make predictions and evaluate the model\n",
    "\n",
    "From the metrics we can see that our model isnt really learning anything.\n",
    "\n",
    "So to inspect it let's make some predictions and make them visual.\n",
    "\n",
    "To do so, we're going to import a fn called `plot_decision_boundary()`\n",
    "\n"
   ]
  },
  {
   "metadata": {
    "ExecuteTime": {
     "end_time": "2025-10-27T10:36:45.219964Z",
     "start_time": "2025-10-27T10:36:44.697069Z"
    }
   },
   "cell_type": "code",
   "source": [
    "import requests\n",
    "from pathlib import Path\n",
    "#Download helper functions from learn pytorch repo (if it's not already downloaded\n",
    "if Path (\"helper_functions.py\").is_file():\n",
    "    print(\"helper_functions.py already exists, skipping download\")\n",
    "else:\n",
    "    print(\"Downloading helper_functions.py\")\n",
    "    request = requests.get(\"https://raw.githubusercontent.com/mrdbourke/pytorch-deep-learning/refs/heads/main/helper_functions.py\")\n",
    "    with open(\"helper_functions.py\", \"wb\") as f:\n",
    "        f.write(request.content)\n",
    "\n",
    "from helper_functions import plot_predictions, plot_decision_boundary"
   ],
   "outputs": [
    {
     "name": "stdout",
     "output_type": "stream",
     "text": [
      "helper_functions.py already exists, skipping download\n"
     ]
    }
   ],
   "execution_count": 29
  },
  {
   "metadata": {
    "ExecuteTime": {
     "end_time": "2025-10-27T10:36:45.611120Z",
     "start_time": "2025-10-27T10:36:45.249077Z"
    }
   },
   "cell_type": "code",
   "source": [
    "# Plot decision boundary of the model\n",
    "plt.figure(figsize=(12,6))\n",
    "plt.subplot(1,2,1) # Row, column, index\n",
    "plt.title(\"Train\")\n",
    "plot_decision_boundary(model_0, X_train, y_train)\n",
    "plt.subplot(1,2,2)\n",
    "plt.title(\"Test\")\n",
    "plot_decision_boundary(model_0, X_test, y_test)\n"
   ],
   "outputs": [
    {
     "data": {
      "text/plain": [
       "<Figure size 1200x600 with 2 Axes>"
      ],
      "image/png": "[encoded data removed]"
     },
     "metadata": {},
     "output_type": "display_data",
     "jetTransient": {
      "display_id": null
     }
    }
   ],
   "execution_count": 30
  },
  {
   "metadata": {},
   "cell_type": "markdown",
   "source": [
    "## 5. Imporving a model (from a model perspective)\n",
    "* Add more layers - give the model more chances to learn about patterns in the data\n",
    "* Add more hidden units\n",
    "* Fit for longer (Increase the number of epochs)\n",
    "* Changing the activation functions\n",
    "* Change the learning rate (If it'ss too small it wont learn anything or it's too high it might explode)\n",
    "* Change the loss function\n",
    "\n",
    "These options are all from a model's perspective because they deal directly with the model rather than the data.\n",
    "\n",
    "And because these options are all values we can change they are referred to as **hyperparams**"
   ]
  },
  {
   "metadata": {
    "ExecuteTime": {
     "end_time": "2025-10-27T10:36:45.626396Z",
     "start_time": "2025-10-27T10:36:45.619892Z"
    }
   },
   "cell_type": "code",
   "source": [
    "class CircleModelV1(nn.Module):\n",
    "    def __init__(self):\n",
    "        super().__init__()\n",
    "        self.layer_1 = nn.Linear(in_features=2,\n",
    "                                 out_features=10)\n",
    "        self.layer_2 = nn.Linear(in_features=10,\n",
    "                                 out_features=10)\n",
    "        self.layer_3 = nn.Linear(in_features=10,\n",
    "                                 out_features=1 )\n",
    "    def forward(self, x):\n",
    "        return self.layer_3(self.layer_2(self.layer_1(x)))\n",
    "\n",
    "model_1 = CircleModelV1().to(device)\n",
    "model_1\n"
   ],
   "outputs": [
    {
     "data": {
      "text/plain": [
       "CircleModelV1(\n",
       "  (layer_1): Linear(in_features=2, out_features=10, bias=True)\n",
       "  (layer_2): Linear(in_features=10, out_features=10, bias=True)\n",
       "  (layer_3): Linear(in_features=10, out_features=1, bias=True)\n",
       ")"
      ]
     },
     "execution_count": 31,
     "metadata": {},
     "output_type": "execute_result"
    }
   ],
   "execution_count": 31
  },
  {
   "metadata": {
    "ExecuteTime": {
     "end_time": "2025-10-27T10:36:45.641625Z",
     "start_time": "2025-10-27T10:36:45.638524Z"
    }
   },
   "cell_type": "code",
   "source": [
    "loss_fn = nn.BCEWithLogitsLoss\n",
    "optimizer = torch.optim.SGD(params=model_1.parameters(),\n",
    "                            lr=0.1)"
   ],
   "outputs": [],
   "execution_count": 32
  },
  {
   "metadata": {
    "ExecuteTime": {
     "end_time": "2025-10-27T10:51:21.114695Z",
     "start_time": "2025-10-27T10:51:21.058538Z"
    }
   },
   "cell_type": "code",
   "source": [
    "torch.manual_seed(42)\n",
    "torch.cuda.manual_seed(42)\n",
    "\n",
    "epochs = 1000\n",
    "\n",
    "X_train = X_train.to(device)\n",
    "X_test = X_test.to(device)\n",
    "y_train = y_train.to(device)\n",
    "y_test = y_test.to(device)\n",
    "\n",
    "for epoch in range(epochs):\n",
    "    model_1.train()\n",
    "    y_logits = model_1(X_train).squeeze()\n",
    "    y_pred = torch.round(torch.sigmoid(y_logits))\n",
    "\n",
    "    loss = loss_fn(y_logits, y_train)\n",
    "    acc  = accuracy_fn(y_true=y_train,\n",
    "                       y_pred=y_pred)\n",
    "    optimizer.zero_grad()\n",
    "    loss.backward()\n",
    "    optimizer.step()\n",
    "\n",
    "    model_1.eval()\n",
    "    with torch.inference_mode():\n",
    "        test_logits = model_1(X_test).squeeze()\n",
    "        test_pred = torch.round(torch.sigmoid(test_logits))\n",
    "        test_loss = loss_fn(test_logits, y_test)\n",
    "        test_acc = accuracy_fn(y_true=y_test,\n",
    "                               y_pred=test_pred)\n",
    "    if epoch % 50 == 0:\n",
    "        print(f'Epoch: {epoch} | Loss: {loss:.5f}, Acc: {acc:.2f}% | Test Loss: {test_loss:.5f}, Test Acc: {test_acc:.2f}%')"
   ],
   "outputs": [
    {
     "ename": "RuntimeError",
     "evalue": "Boolean value of Tensor with more than one value is ambiguous",
     "output_type": "error",
     "traceback": [
      "\u001B[31m---------------------------------------------------------------------------\u001B[39m",
      "\u001B[31mRuntimeError\u001B[39m                              Traceback (most recent call last)",
      "\u001B[36mCell\u001B[39m\u001B[36m \u001B[39m\u001B[32mIn[35]\u001B[39m\u001B[32m, line 16\u001B[39m\n\u001B[32m     13\u001B[39m y_logits = model_1(X_train).squeeze()\n\u001B[32m     14\u001B[39m y_pred = torch.round(torch.sigmoid(y_logits))\n\u001B[32m---> \u001B[39m\u001B[32m16\u001B[39m loss = \u001B[43mloss_fn\u001B[49m\u001B[43m(\u001B[49m\u001B[43my_logits\u001B[49m\u001B[43m,\u001B[49m\u001B[43m \u001B[49m\u001B[43my_train\u001B[49m\u001B[43m)\u001B[49m\n\u001B[32m     17\u001B[39m acc  = accuracy_fn(y_true=y_train,\n\u001B[32m     18\u001B[39m                    y_pred=y_pred)\n\u001B[32m     19\u001B[39m optimizer.zero_grad()\n",
      "\u001B[36mFile \u001B[39m\u001B[32m~\\.conda\\envs\\cs224n\\Lib\\site-packages\\torch\\nn\\modules\\loss.py:842\u001B[39m, in \u001B[36mBCEWithLogitsLoss.__init__\u001B[39m\u001B[34m(self, weight, size_average, reduce, reduction, pos_weight)\u001B[39m\n\u001B[32m    834\u001B[39m \u001B[38;5;28;01mdef\u001B[39;00m\u001B[38;5;250m \u001B[39m\u001B[34m__init__\u001B[39m(\n\u001B[32m    835\u001B[39m     \u001B[38;5;28mself\u001B[39m,\n\u001B[32m    836\u001B[39m     weight: Optional[Tensor] = \u001B[38;5;28;01mNone\u001B[39;00m,\n\u001B[32m   (...)\u001B[39m\u001B[32m    840\u001B[39m     pos_weight: Optional[Tensor] = \u001B[38;5;28;01mNone\u001B[39;00m,\n\u001B[32m    841\u001B[39m ) -> \u001B[38;5;28;01mNone\u001B[39;00m:\n\u001B[32m--> \u001B[39m\u001B[32m842\u001B[39m     \u001B[38;5;28;43msuper\u001B[39;49m\u001B[43m(\u001B[49m\u001B[43m)\u001B[49m\u001B[43m.\u001B[49m\u001B[34;43m__init__\u001B[39;49m\u001B[43m(\u001B[49m\u001B[43msize_average\u001B[49m\u001B[43m,\u001B[49m\u001B[43m \u001B[49m\u001B[43mreduce\u001B[49m\u001B[43m,\u001B[49m\u001B[43m \u001B[49m\u001B[43mreduction\u001B[49m\u001B[43m)\u001B[49m\n\u001B[32m    843\u001B[39m     \u001B[38;5;28mself\u001B[39m.register_buffer(\u001B[33m\"\u001B[39m\u001B[33mweight\u001B[39m\u001B[33m\"\u001B[39m, weight)\n\u001B[32m    844\u001B[39m     \u001B[38;5;28mself\u001B[39m.register_buffer(\u001B[33m\"\u001B[39m\u001B[33mpos_weight\u001B[39m\u001B[33m\"\u001B[39m, pos_weight)\n",
      "\u001B[36mFile \u001B[39m\u001B[32m~\\.conda\\envs\\cs224n\\Lib\\site-packages\\torch\\nn\\modules\\loss.py:44\u001B[39m, in \u001B[36m_Loss.__init__\u001B[39m\u001B[34m(self, size_average, reduce, reduction)\u001B[39m\n\u001B[32m     42\u001B[39m \u001B[38;5;28msuper\u001B[39m().\u001B[34m__init__\u001B[39m()\n\u001B[32m     43\u001B[39m \u001B[38;5;28;01mif\u001B[39;00m size_average \u001B[38;5;129;01mis\u001B[39;00m \u001B[38;5;129;01mnot\u001B[39;00m \u001B[38;5;28;01mNone\u001B[39;00m \u001B[38;5;129;01mor\u001B[39;00m reduce \u001B[38;5;129;01mis\u001B[39;00m \u001B[38;5;129;01mnot\u001B[39;00m \u001B[38;5;28;01mNone\u001B[39;00m:\n\u001B[32m---> \u001B[39m\u001B[32m44\u001B[39m     \u001B[38;5;28mself\u001B[39m.reduction: \u001B[38;5;28mstr\u001B[39m = \u001B[43m_Reduction\u001B[49m\u001B[43m.\u001B[49m\u001B[43mlegacy_get_string\u001B[49m\u001B[43m(\u001B[49m\u001B[43msize_average\u001B[49m\u001B[43m,\u001B[49m\u001B[43m \u001B[49m\u001B[43mreduce\u001B[49m\u001B[43m)\u001B[49m\n\u001B[32m     45\u001B[39m \u001B[38;5;28;01melse\u001B[39;00m:\n\u001B[32m     46\u001B[39m     \u001B[38;5;28mself\u001B[39m.reduction = reduction\n",
      "\u001B[36mFile \u001B[39m\u001B[32m~\\.conda\\envs\\cs224n\\Lib\\site-packages\\torch\\nn\\_reduction.py:44\u001B[39m, in \u001B[36mlegacy_get_string\u001B[39m\u001B[34m(size_average, reduce, emit_warning)\u001B[39m\n\u001B[32m     41\u001B[39m \u001B[38;5;28;01mif\u001B[39;00m reduce \u001B[38;5;129;01mis\u001B[39;00m \u001B[38;5;28;01mNone\u001B[39;00m:\n\u001B[32m     42\u001B[39m     reduce = \u001B[38;5;28;01mTrue\u001B[39;00m\n\u001B[32m---> \u001B[39m\u001B[32m44\u001B[39m \u001B[38;5;28;01mif\u001B[39;00m size_average \u001B[38;5;129;01mand\u001B[39;00m reduce:\n\u001B[32m     45\u001B[39m     ret = \u001B[33m\"\u001B[39m\u001B[33mmean\u001B[39m\u001B[33m\"\u001B[39m\n\u001B[32m     46\u001B[39m \u001B[38;5;28;01melif\u001B[39;00m reduce:\n",
      "\u001B[31mRuntimeError\u001B[39m: Boolean value of Tensor with more than one value is ambiguous"
     ]
    }
   ],
   "execution_count": 35
  },
  {
   "metadata": {},
   "cell_type": "code",
   "outputs": [],
   "execution_count": null,
   "source": "\n"
  }
 ]
}
