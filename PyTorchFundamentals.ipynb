{
  "nbformat": 4,
  "nbformat_minor": 0,
  "metadata": {
    "colab": {
      "provenance": [],
      "gpuType": "T4",
      "authorship_tag": "ABX9TyNryflWr4M3oyE1kZ3BoOdn",
      "include_colab_link": true
    },
    "kernelspec": {
      "name": "python3",
      "display_name": "Python 3"
    },
    "language_info": {
      "name": "python"
    },
    "accelerator": "GPU"
  },
  "cells": [
    {
      "cell_type": "markdown",
      "metadata": {
        "id": "view-in-github",
        "colab_type": "text"
      },
      "source": [
        "<a href=\"https://colab.research.google.com/github/BurnTheBunsen/pytorch-deep-learning-test/blob/main/PyTorchFundamentals.ipynb\" target=\"_parent\"><img src=\"https://colab.research.google.com/assets/colab-badge.svg\" alt=\"Open In Colab\"/></a>"
      ]
    },
    {
      "cell_type": "code",
      "source": [
        "!nvidia-smi"
      ],
      "metadata": {
        "colab": {
          "base_uri": "https://localhost:8080/"
        },
        "id": "4oqJivISuBzV",
        "outputId": "d9ba1b85-5344-401c-f7a2-3dbdb5e029f5"
      },
      "execution_count": 1,
      "outputs": [
        {
          "output_type": "stream",
          "name": "stdout",
          "text": [
            "Sat Oct 18 11:31:10 2025       \n",
            "+-----------------------------------------------------------------------------------------+\n",
            "| NVIDIA-SMI 550.54.15              Driver Version: 550.54.15      CUDA Version: 12.4     |\n",
            "|-----------------------------------------+------------------------+----------------------+\n",
            "| GPU  Name                 Persistence-M | Bus-Id          Disp.A | Volatile Uncorr. ECC |\n",
            "| Fan  Temp   Perf          Pwr:Usage/Cap |           Memory-Usage | GPU-Util  Compute M. |\n",
            "|                                         |                        |               MIG M. |\n",
            "|=========================================+========================+======================|\n",
            "|   0  Tesla T4                       Off |   00000000:00:04.0 Off |                    0 |\n",
            "| N/A   46C    P8             11W /   70W |       0MiB /  15360MiB |      0%      Default |\n",
            "|                                         |                        |                  N/A |\n",
            "+-----------------------------------------+------------------------+----------------------+\n",
            "                                                                                         \n",
            "+-----------------------------------------------------------------------------------------+\n",
            "| Processes:                                                                              |\n",
            "|  GPU   GI   CI        PID   Type   Process name                              GPU Memory |\n",
            "|        ID   ID                                                               Usage      |\n",
            "|=========================================================================================|\n",
            "|  No running processes found                                                             |\n",
            "+-----------------------------------------------------------------------------------------+\n"
          ]
        }
      ]
    },
    {
      "cell_type": "code",
      "source": [
        "import torch\n",
        "torch.cuda.is_available()"
      ],
      "metadata": {
        "colab": {
          "base_uri": "https://localhost:8080/"
        },
        "id": "xI_xXsS13HfT",
        "outputId": "f33b03d8-bfb1-462e-fa49-26f03bcffd9b"
      },
      "execution_count": 2,
      "outputs": [
        {
          "output_type": "execute_result",
          "data": {
            "text/plain": [
              "True"
            ]
          },
          "metadata": {},
          "execution_count": 2
        }
      ]
    },
    {
      "cell_type": "code",
      "source": [
        "# Setup device agnostic code\n",
        "device = \"cuda\" if torch.cuda.is_available() else \"cpu\"\n",
        "device"
      ],
      "metadata": {
        "colab": {
          "base_uri": "https://localhost:8080/",
          "height": 35
        },
        "id": "52OonbQR3YUE",
        "outputId": "55af80a3-4613-4f3c-cd5e-6d2aea3f6b16"
      },
      "execution_count": 3,
      "outputs": [
        {
          "output_type": "execute_result",
          "data": {
            "text/plain": [
              "'cuda'"
            ],
            "application/vnd.google.colaboratory.intrinsic+json": {
              "type": "string"
            }
          },
          "metadata": {},
          "execution_count": 3
        }
      ]
    },
    {
      "cell_type": "code",
      "source": [
        "torch.cuda.device_count()"
      ],
      "metadata": {
        "colab": {
          "base_uri": "https://localhost:8080/"
        },
        "id": "UzRH9gzo3iUF",
        "outputId": "07df7194-2c9b-40de-bc8d-e6f7b067be71"
      },
      "execution_count": 4,
      "outputs": [
        {
          "output_type": "execute_result",
          "data": {
            "text/plain": [
              "1"
            ]
          },
          "metadata": {},
          "execution_count": 4
        }
      ]
    },
    {
      "cell_type": "code",
      "source": [
        "# Putting tensors (and models) on the GPU\n",
        "# Default is on the CPU\n",
        "tensor = torch.tensor([1, 2, 3])\n",
        "\n",
        "print(tensor, tensor.device)"
      ],
      "metadata": {
        "id": "5gWRe-0f35bp",
        "colab": {
          "base_uri": "https://localhost:8080/"
        },
        "outputId": "f49f77c4-23df-4e7a-f5c9-8fd5835e2841"
      },
      "execution_count": 5,
      "outputs": [
        {
          "output_type": "stream",
          "name": "stdout",
          "text": [
            "tensor([1, 2, 3]) cpu\n"
          ]
        }
      ]
    },
    {
      "cell_type": "code",
      "source": [
        "tensor = torch.tensor([1, 2, 3])\n",
        "tensor_on_gpu = tensor.to(device)\n",
        "tensor_on_gpu"
      ],
      "metadata": {
        "colab": {
          "base_uri": "https://localhost:8080/"
        },
        "id": "H-z9Xk0y6s7e",
        "outputId": "88b649d3-3334-4422-9e91-eb14a7cb8a52"
      },
      "execution_count": 6,
      "outputs": [
        {
          "output_type": "execute_result",
          "data": {
            "text/plain": [
              "tensor([1, 2, 3], device='cuda:0')"
            ]
          },
          "metadata": {},
          "execution_count": 6
        }
      ]
    },
    {
      "cell_type": "code",
      "source": [
        "tensor_on_cpu = tensor.to(device=\"cpu\")\n",
        "tensor_on_cpu, tensor_on_cpu.device"
      ],
      "metadata": {
        "colab": {
          "base_uri": "https://localhost:8080/"
        },
        "id": "dH9AJA5b65jc",
        "outputId": "453b8978-31a4-4713-d7ec-3406c6427067"
      },
      "execution_count": 7,
      "outputs": [
        {
          "output_type": "execute_result",
          "data": {
            "text/plain": [
              "(tensor([1, 2, 3]), device(type='cpu'))"
            ]
          },
          "metadata": {},
          "execution_count": 7
        }
      ]
    },
    {
      "cell_type": "markdown",
      "source": [
        "Now we do this because numpy doesnt run on cuda so we need to be readily available for numpy as well."
      ],
      "metadata": {
        "id": "1OxKeaOD8CoJ"
      }
    },
    {
      "cell_type": "code",
      "source": [
        "tensor_back_on_cpu = tensor_on_gpu.cpu()\n",
        "tensor_back_on_cpu"
      ],
      "metadata": {
        "colab": {
          "base_uri": "https://localhost:8080/"
        },
        "id": "Z2YjpZkc7ncG",
        "outputId": "b56229fc-6542-49a3-f7d5-3455f23a4c40"
      },
      "execution_count": 8,
      "outputs": [
        {
          "output_type": "execute_result",
          "data": {
            "text/plain": [
              "tensor([1, 2, 3])"
            ]
          },
          "metadata": {},
          "execution_count": 8
        }
      ]
    },
    {
      "cell_type": "code",
      "source": [
        "tensor_back_on_cpu.numpy()"
      ],
      "metadata": {
        "colab": {
          "base_uri": "https://localhost:8080/"
        },
        "id": "Uk-o3dSH8w1A",
        "outputId": "9e7a6b10-53df-4cdf-872b-2958d18ce094"
      },
      "execution_count": 9,
      "outputs": [
        {
          "output_type": "execute_result",
          "data": {
            "text/plain": [
              "array([1, 2, 3])"
            ]
          },
          "metadata": {},
          "execution_count": 9
        }
      ]
    },
    {
      "cell_type": "markdown",
      "source": [
        "Now let the exercises begin!\n"
      ],
      "metadata": {
        "id": "-aCg2WMxHjey"
      }
    },
    {
      "cell_type": "code",
      "source": [
        "# random_tensor_1 = torch.rand(7, 7)\n",
        "# random_tensor_2 = torch.rand(1,7)\n",
        "# random_tensor_1, random_tensor_2"
      ],
      "metadata": {
        "id": "BbbBkF809hqj",
        "colab": {
          "base_uri": "https://localhost:8080/"
        },
        "outputId": "09420436-6eee-4b1e-f1bf-8a0eb5af121e"
      },
      "execution_count": 13,
      "outputs": [
        {
          "output_type": "execute_result",
          "data": {
            "text/plain": [
              "(tensor([[0.3975, 0.3414, 0.6872, 0.8926, 0.2473, 0.7082, 0.8151],\n",
              "         [0.3753, 0.6937, 0.7389, 0.0519, 0.3012, 0.8568, 0.2792],\n",
              "         [0.5138, 0.4678, 0.4951, 0.9606, 0.1716, 0.3557, 0.6241],\n",
              "         [0.6141, 0.2163, 0.1340, 0.9132, 0.3873, 0.7920, 0.9021],\n",
              "         [0.5884, 0.7460, 0.1039, 0.0780, 0.2617, 0.3606, 0.9478],\n",
              "         [0.9017, 0.1944, 0.8227, 0.0662, 0.1358, 0.2735, 0.4489],\n",
              "         [0.9021, 0.9869, 0.6968, 0.0206, 0.1538, 0.8259, 0.0678]]),\n",
              " tensor([[0.1266, 0.4792, 0.8429, 0.7454, 0.3117, 0.8707, 0.4714]]))"
            ]
          },
          "metadata": {},
          "execution_count": 13
        }
      ]
    },
    {
      "cell_type": "code",
      "source": [
        "# random_tensor_3 = torch.matmul(random_tensor_1, random_tensor_2.T)\n",
        "# random_tensor_3"
      ],
      "metadata": {
        "colab": {
          "base_uri": "https://localhost:8080/"
        },
        "id": "zTL0CZayFnU1",
        "outputId": "8c230eb6-da52-4589-e186-af5e37f7561a"
      },
      "execution_count": 16,
      "outputs": [
        {
          "output_type": "execute_result",
          "data": {
            "text/plain": [
              "tensor([[2.5365],\n",
              "        [2.0129],\n",
              "        [2.0800],\n",
              "        [2.2107],\n",
              "        [1.4200],\n",
              "        [1.4421],\n",
              "        [1.9889]])"
            ]
          },
          "metadata": {},
          "execution_count": 16
        }
      ]
    },
    {
      "cell_type": "code",
      "source": [
        "# RANDOM_SEED = 69\n",
        "# torch.random.manual_seed(RANDOM_SEED)\n",
        "# random_tensor_1 = torch.rand(7, 7)\n",
        "# torch.random.manual_seed(RANDOM_SEED)\n",
        "# random_tensor_2 = torch.rand(1,7)\n",
        "# random_tensor_3 = torch.matmul(random_tensor_1, random_tensor_2.T)\n",
        "# random_tensor_3\n"
      ],
      "metadata": {
        "colab": {
          "base_uri": "https://localhost:8080/"
        },
        "id": "orvqr8vhGPGg",
        "outputId": "a124fc99-8731-467c-cd35-01b7949782c8"
      },
      "execution_count": 20,
      "outputs": [
        {
          "output_type": "execute_result",
          "data": {
            "text/plain": [
              "tensor([[2.2644],\n",
              "        [1.7081],\n",
              "        [1.5688],\n",
              "        [2.1016],\n",
              "        [2.1328],\n",
              "        [1.6736],\n",
              "        [1.5506]])"
            ]
          },
          "metadata": {},
          "execution_count": 20
        }
      ]
    },
    {
      "cell_type": "code",
      "source": [
        "### No.5\n",
        "RANDOM_SEED = 1234\n",
        "torch.cuda.manual_seed(RANDOM_SEED)\n",
        "tensor_1 = torch.rand(size=(7,7), device=\"cuda\")\n",
        "torch.cuda.manual_seed(RANDOM_SEED)\n",
        "tensor_2 = torch.rand(size=(1,7), device=\"cuda\")\n",
        "tensor_3 = torch.matmul(tensor_1, tensor_2.T)\n",
        "tensor_3"
      ],
      "metadata": {
        "colab": {
          "base_uri": "https://localhost:8080/"
        },
        "id": "0315F3E-HQS0",
        "outputId": "732b5058-fa09-42e6-f247-d4bbb1ac6db8"
      },
      "execution_count": 48,
      "outputs": [
        {
          "output_type": "execute_result",
          "data": {
            "text/plain": [
              "tensor([[2.5893],\n",
              "        [2.1242],\n",
              "        [1.8872],\n",
              "        [2.5468],\n",
              "        [1.7516],\n",
              "        [1.6445],\n",
              "        [1.6517]], device='cuda:0')"
            ]
          },
          "metadata": {},
          "execution_count": 48
        }
      ]
    },
    {
      "cell_type": "code",
      "source": [],
      "metadata": {
        "id": "NIH2uuh_I6fE"
      },
      "execution_count": 45,
      "outputs": []
    }
  ]
}