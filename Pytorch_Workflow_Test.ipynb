{
  "nbformat": 4,
  "nbformat_minor": 0,
  "metadata": {
    "colab": {
      "provenance": [],
      "gpuType": "T4",
      "authorship_tag": "ABX9TyPDLFJLnsjCiP8EFk0b9UJh",
      "include_colab_link": true
    },
    "kernelspec": {
      "name": "python3",
      "display_name": "Python 3"
    },
    "language_info": {
      "name": "python"
    }
  },
  "cells": [
    {
      "cell_type": "markdown",
      "metadata": {
        "id": "view-in-github",
        "colab_type": "text"
      },
      "source": [
        "<a href=\"https://colab.research.google.com/github/BurnTheBunsen/pytorch-deep-learning-test/blob/main/Pytorch_Workflow_Test.ipynb\" target=\"_parent\"><img src=\"https://colab.research.google.com/assets/colab-badge.svg\" alt=\"Open In Colab\"/></a>"
      ]
    },
    {
      "cell_type": "code",
      "execution_count": 2,
      "metadata": {
        "id": "p_kE_wl7MmRM",
        "colab": {
          "base_uri": "https://localhost:8080/"
        },
        "outputId": "1ca87d3c-fd54-4ab8-e447-e9ae55b482b6"
      },
      "outputs": [
        {
          "output_type": "execute_result",
          "data": {
            "text/plain": [
              "{1: 'data (preparing and loading)',\n",
              " 2: 'build a model',\n",
              " 3: 'fitting the model to data (training)',\n",
              " 4: 'making predictions and evaluting a model (inference)',\n",
              " 5: 'saving and loading a model',\n",
              " 6: 'putting it all together'}"
            ]
          },
          "metadata": {},
          "execution_count": 2
        }
      ],
      "source": [
        "what_were_covering = {1: \"data (preparing and loading)\",\n",
        "                      2: \"build a model\",\n",
        "                      3: \"fitting the model to data (training)\",\n",
        "                      4: \"making predictions and evaluting a model (inference)\",\n",
        "                      5: \"saving and loading a model\",\n",
        "                      6: \"putting it all together\"\n",
        "                      }\n",
        "what_were_covering"
      ]
    },
    {
      "cell_type": "code",
      "source": [
        "import torch\n",
        "import torch.nn as nn\n",
        "import matplotlib.pyplot as plt\n",
        "torch.__version__"
      ],
      "metadata": {
        "colab": {
          "base_uri": "https://localhost:8080/",
          "height": 35
        },
        "id": "ZYQZvphqUyle",
        "outputId": "9785b26f-5192-4310-ba58-dce4c7fd7436"
      },
      "execution_count": 3,
      "outputs": [
        {
          "output_type": "execute_result",
          "data": {
            "text/plain": [
              "'2.8.0+cu126'"
            ],
            "application/vnd.google.colaboratory.intrinsic+json": {
              "type": "string"
            }
          },
          "metadata": {},
          "execution_count": 3
        }
      ]
    },
    {
      "cell_type": "markdown",
      "source": [
        "##1. Data preparing and loading\n",
        "A. Get data into a numerical representation\n",
        "\n",
        "B. Build a model to learn patterns in that numerical representation"
      ],
      "metadata": {
        "id": "xEdzt9t7V5OL"
      }
    },
    {
      "cell_type": "code",
      "source": [
        "# Create a known parameter\n",
        "weight = 0.7\n",
        "bias = 0.3\n",
        "\n",
        "# Create\n",
        "start = 0\n",
        "end = 1\n",
        "step = 0.02\n",
        "# Why is X capital here? because it is typically a matrix or a tensor\n",
        "X =  torch.arange(start, end, step).unsqueeze(dim=1) # This is our input\n",
        "y = weight * X + bias # This is our ideal output\n",
        "X[:10], y[:10], len(X), len(y)"
      ],
      "metadata": {
        "colab": {
          "base_uri": "https://localhost:8080/"
        },
        "id": "c5g5Zkk4Wggm",
        "outputId": "8523755a-33f2-4e5a-c0f4-e50e36421af7"
      },
      "execution_count": 4,
      "outputs": [
        {
          "output_type": "execute_result",
          "data": {
            "text/plain": [
              "(tensor([[0.0000],\n",
              "         [0.0200],\n",
              "         [0.0400],\n",
              "         [0.0600],\n",
              "         [0.0800],\n",
              "         [0.1000],\n",
              "         [0.1200],\n",
              "         [0.1400],\n",
              "         [0.1600],\n",
              "         [0.1800]]),\n",
              " tensor([[0.3000],\n",
              "         [0.3140],\n",
              "         [0.3280],\n",
              "         [0.3420],\n",
              "         [0.3560],\n",
              "         [0.3700],\n",
              "         [0.3840],\n",
              "         [0.3980],\n",
              "         [0.4120],\n",
              "         [0.4260]]),\n",
              " 50,\n",
              " 50)"
            ]
          },
          "metadata": {},
          "execution_count": 4
        }
      ]
    },
    {
      "cell_type": "markdown",
      "source": [
        "# Splitting data into training and test sets (one of the most impotant conceptst in ML in general)\n",
        "So we have 3 sets of data:\n",
        "1. Training set 60~80%\n",
        "2. Validation set (You dont always use this one) 10~20%\n",
        "3. Test set 10~20%"
      ],
      "metadata": {
        "id": "4M2h9_dVZKD6"
      }
    },
    {
      "cell_type": "code",
      "source": [
        "#Create a train/test split\n",
        "train_split = int(0.8 *len(X))\n",
        "X_train, y_train = X[:train_split], y[:train_split]\n",
        "X_test, y_test = X[train_split:], y[train_split:]\n",
        "\n",
        "len(X_train), len(y_train), len(X_test), len(y_test)"
      ],
      "metadata": {
        "colab": {
          "base_uri": "https://localhost:8080/"
        },
        "id": "W_n-7Kp2benN",
        "outputId": "09495418-fe9f-494c-cbb7-b626b13966c1"
      },
      "execution_count": 7,
      "outputs": [
        {
          "output_type": "execute_result",
          "data": {
            "text/plain": [
              "(40, 40, 10, 10)"
            ]
          },
          "metadata": {},
          "execution_count": 7
        }
      ]
    },
    {
      "cell_type": "code",
      "source": [],
      "metadata": {
        "id": "CQqXsK54bqgj"
      },
      "execution_count": null,
      "outputs": []
    }
  ]
}