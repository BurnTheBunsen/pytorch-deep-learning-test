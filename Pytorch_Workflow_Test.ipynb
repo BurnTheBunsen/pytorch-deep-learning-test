{
  "nbformat": 4,
  "nbformat_minor": 0,
  "metadata": {
    "colab": {
      "provenance": [],
      "gpuType": "T4",
      "authorship_tag": "ABX9TyPQ6G+ec+hGzzozfw2bvH/s",
      "include_colab_link": true
    },
    "kernelspec": {
      "name": "python3",
      "display_name": "Python 3"
    },
    "language_info": {
      "name": "python"
    }
  },
  "cells": [
    {
      "cell_type": "markdown",
      "metadata": {
        "id": "view-in-github",
        "colab_type": "text"
      },
      "source": [
        "<a href=\"https://colab.research.google.com/github/BurnTheBunsen/pytorch-deep-learning-test/blob/main/Pytorch_Workflow_Test.ipynb\" target=\"_parent\"><img src=\"https://colab.research.google.com/assets/colab-badge.svg\" alt=\"Open In Colab\"/></a>"
      ]
    },
    {
      "cell_type": "code",
      "execution_count": 52,
      "metadata": {
        "id": "p_kE_wl7MmRM",
        "colab": {
          "base_uri": "https://localhost:8080/"
        },
        "outputId": "a2359f70-53a1-4efd-e222-3bebf187e04a"
      },
      "outputs": [
        {
          "output_type": "execute_result",
          "data": {
            "text/plain": [
              "{1: 'data (preparing and loading)',\n",
              " 2: 'build a model',\n",
              " 3: 'fitting the model to data (training)',\n",
              " 4: 'making predictions and evaluting a model (inference)',\n",
              " 5: 'saving and loading a model',\n",
              " 6: 'putting it all together'}"
            ]
          },
          "metadata": {},
          "execution_count": 52
        }
      ],
      "source": [
        "what_were_covering = {1: \"data (preparing and loading)\",\n",
        "                      2: \"build a model\",\n",
        "                      3: \"fitting the model to data (training)\",\n",
        "                      4: \"making predictions and evaluting a model (inference)\",\n",
        "                      5: \"saving and loading a model\",\n",
        "                      6: \"putting it all together\"\n",
        "                      }\n",
        "what_were_covering"
      ]
    },
    {
      "cell_type": "code",
      "source": [
        "import torch\n",
        "import torch.nn as nn\n",
        "import matplotlib.pyplot as plt\n",
        "torch.__version__"
      ],
      "metadata": {
        "colab": {
          "base_uri": "https://localhost:8080/",
          "height": 35
        },
        "id": "ZYQZvphqUyle",
        "outputId": "2f9ab1ba-e3f8-4a25-d4dc-0877ab46a85d"
      },
      "execution_count": 53,
      "outputs": [
        {
          "output_type": "execute_result",
          "data": {
            "text/plain": [
              "'2.8.0+cu126'"
            ],
            "application/vnd.google.colaboratory.intrinsic+json": {
              "type": "string"
            }
          },
          "metadata": {},
          "execution_count": 53
        }
      ]
    },
    {
      "cell_type": "markdown",
      "source": [
        "##1. Data preparing and loading\n",
        "A. Get data into a numerical representation\n",
        "\n",
        "B. Build a model to learn patterns in that numerical representation"
      ],
      "metadata": {
        "id": "xEdzt9t7V5OL"
      }
    },
    {
      "cell_type": "code",
      "source": [
        "# Create a known parameter\n",
        "weight = 0.7\n",
        "bias = 0.3\n",
        "\n",
        "# Create\n",
        "start = 0\n",
        "end = 1\n",
        "step = 0.02\n",
        "# Why is X capital here? because it is typically a matrix or a tensor\n",
        "X =  torch.arange(start, end, step).unsqueeze(dim=1) # This is our input\n",
        "y = weight * X + bias # This is our ideal output\n",
        "X[:10], y[:10], len(X), len(y)"
      ],
      "metadata": {
        "colab": {
          "base_uri": "https://localhost:8080/"
        },
        "id": "c5g5Zkk4Wggm",
        "outputId": "6dafd756-68bb-4ce5-a322-33c068daec48"
      },
      "execution_count": 54,
      "outputs": [
        {
          "output_type": "execute_result",
          "data": {
            "text/plain": [
              "(tensor([[0.0000],\n",
              "         [0.0200],\n",
              "         [0.0400],\n",
              "         [0.0600],\n",
              "         [0.0800],\n",
              "         [0.1000],\n",
              "         [0.1200],\n",
              "         [0.1400],\n",
              "         [0.1600],\n",
              "         [0.1800]]),\n",
              " tensor([[0.3000],\n",
              "         [0.3140],\n",
              "         [0.3280],\n",
              "         [0.3420],\n",
              "         [0.3560],\n",
              "         [0.3700],\n",
              "         [0.3840],\n",
              "         [0.3980],\n",
              "         [0.4120],\n",
              "         [0.4260]]),\n",
              " 50,\n",
              " 50)"
            ]
          },
          "metadata": {},
          "execution_count": 54
        }
      ]
    },
    {
      "cell_type": "markdown",
      "source": [
        "# Splitting data into training and test sets (one of the most impotant conceptst in ML in general)\n",
        "So we have 3 sets of data:\n",
        "1. Training set 60~80%\n",
        "2. Validation set (You dont always use this one) 10~20%\n",
        "3. Test set 10~20%"
      ],
      "metadata": {
        "id": "4M2h9_dVZKD6"
      }
    },
    {
      "cell_type": "code",
      "source": [
        "#Create a train/test split\n",
        "train_split = int(0.8 *len(X))\n",
        "X_train, y_train = X[:train_split], y[:train_split]\n",
        "X_test, y_test = X[train_split:], y[train_split:]\n",
        "\n",
        "len(X_train), len(y_train), len(X_test), len(y_test)"
      ],
      "metadata": {
        "colab": {
          "base_uri": "https://localhost:8080/"
        },
        "id": "W_n-7Kp2benN",
        "outputId": "fb879228-da3f-4ca5-9a63-a4dbed011ddc"
      },
      "execution_count": 55,
      "outputs": [
        {
          "output_type": "execute_result",
          "data": {
            "text/plain": [
              "(40, 40, 10, 10)"
            ]
          },
          "metadata": {},
          "execution_count": 55
        }
      ]
    },
    {
      "cell_type": "code",
      "source": [
        "X_train, y_train"
      ],
      "metadata": {
        "colab": {
          "base_uri": "https://localhost:8080/"
        },
        "id": "CQqXsK54bqgj",
        "outputId": "4dabef06-b045-4d7c-b937-4e5feecbe3a1"
      },
      "execution_count": 56,
      "outputs": [
        {
          "output_type": "execute_result",
          "data": {
            "text/plain": [
              "(tensor([[0.0000],\n",
              "         [0.0200],\n",
              "         [0.0400],\n",
              "         [0.0600],\n",
              "         [0.0800],\n",
              "         [0.1000],\n",
              "         [0.1200],\n",
              "         [0.1400],\n",
              "         [0.1600],\n",
              "         [0.1800],\n",
              "         [0.2000],\n",
              "         [0.2200],\n",
              "         [0.2400],\n",
              "         [0.2600],\n",
              "         [0.2800],\n",
              "         [0.3000],\n",
              "         [0.3200],\n",
              "         [0.3400],\n",
              "         [0.3600],\n",
              "         [0.3800],\n",
              "         [0.4000],\n",
              "         [0.4200],\n",
              "         [0.4400],\n",
              "         [0.4600],\n",
              "         [0.4800],\n",
              "         [0.5000],\n",
              "         [0.5200],\n",
              "         [0.5400],\n",
              "         [0.5600],\n",
              "         [0.5800],\n",
              "         [0.6000],\n",
              "         [0.6200],\n",
              "         [0.6400],\n",
              "         [0.6600],\n",
              "         [0.6800],\n",
              "         [0.7000],\n",
              "         [0.7200],\n",
              "         [0.7400],\n",
              "         [0.7600],\n",
              "         [0.7800]]),\n",
              " tensor([[0.3000],\n",
              "         [0.3140],\n",
              "         [0.3280],\n",
              "         [0.3420],\n",
              "         [0.3560],\n",
              "         [0.3700],\n",
              "         [0.3840],\n",
              "         [0.3980],\n",
              "         [0.4120],\n",
              "         [0.4260],\n",
              "         [0.4400],\n",
              "         [0.4540],\n",
              "         [0.4680],\n",
              "         [0.4820],\n",
              "         [0.4960],\n",
              "         [0.5100],\n",
              "         [0.5240],\n",
              "         [0.5380],\n",
              "         [0.5520],\n",
              "         [0.5660],\n",
              "         [0.5800],\n",
              "         [0.5940],\n",
              "         [0.6080],\n",
              "         [0.6220],\n",
              "         [0.6360],\n",
              "         [0.6500],\n",
              "         [0.6640],\n",
              "         [0.6780],\n",
              "         [0.6920],\n",
              "         [0.7060],\n",
              "         [0.7200],\n",
              "         [0.7340],\n",
              "         [0.7480],\n",
              "         [0.7620],\n",
              "         [0.7760],\n",
              "         [0.7900],\n",
              "         [0.8040],\n",
              "         [0.8180],\n",
              "         [0.8320],\n",
              "         [0.8460]]))"
            ]
          },
          "metadata": {},
          "execution_count": 56
        }
      ]
    },
    {
      "cell_type": "markdown",
      "source": [
        "# How can we better visualize our data?"
      ],
      "metadata": {
        "id": "rgRbldiBcvFz"
      }
    },
    {
      "cell_type": "code",
      "source": [
        "def plot_predictions(train_data=X_train,\n",
        "                     train_labels=y_train,\n",
        "                     test_data=X_test,\n",
        "                     test_labels=y_test,\n",
        "                     predictions=None):\n",
        "  \"\"\"\n",
        "  Plots training data, test data and compares predictions.\n",
        "  \"\"\"\n",
        "  plt.figure(figsize=(10,7))\n",
        "\n",
        "  # Plot training data in blue\n",
        "  plt.scatter(train_data, train_labels, c=\"b\", s=4, label=\"Training data\")\n",
        "\n",
        "  # Plot training data in blue\n",
        "  plt.scatter(test_data, test_labels, c=\"g\", s=4, label=\"Testing data\")\n",
        "\n",
        "  # Are there predictions?\n",
        "  if predictions is not None:\n",
        "    # Plot predictions if they exist\n",
        "    plt.scatter(test_data, predictions, c=\"r\", s=4, label=\"Predictions\")\n",
        "\n",
        "    # Show the legend\n",
        "    plt.legend(prop={\"size\": 14});"
      ],
      "metadata": {
        "id": "5sHTgcV4c310"
      },
      "execution_count": 57,
      "outputs": []
    },
    {
      "cell_type": "code",
      "source": [
        "plot_predictions()"
      ],
      "metadata": {
        "colab": {
          "base_uri": "https://localhost:8080/",
          "height": 444
        },
        "id": "GyWQmoSF5XyR",
        "outputId": "15b1ff58-4157-488d-e034-0be752e4f0cd"
      },
      "execution_count": 58,
      "outputs": [
        {
          "output_type": "display_data",
          "data": {
            "text/plain": [
              "<Figure size 1000x700 with 1 Axes>"
            ],
            "image/png": "[encoded data removed]"
          },
          "metadata": {}
        }
      ]
    },
    {
      "cell_type": "markdown",
      "source": [
        "## 2. Build model\n",
        "\n",
        "Our first PyTorch model\n"
      ],
      "metadata": {
        "id": "d0gdQNYY6LdZ"
      }
    },
    {
      "cell_type": "code",
      "source": [
        "from torch import nn\n",
        "\n",
        "class LinearRegressionModel(nn.Module):\n",
        "  def __init__(self):\n",
        "    super().__init__()\n",
        "    self.weights = nn.Parameter(torch.randn(1,\n",
        "                                            requires_grad=True,\n",
        "                                            dtype=torch.float))\n",
        "    #\"requires_grad=True\" just tells pytorch that this parameter\n",
        "    #is supposed to be updated via\n",
        "    self.bias = nn.Parameter(torch.randn(1,\n",
        "                                         requires_grad=True,\n",
        "                                         dtype=torch.float))\n",
        "    # Forward method to define the computation in the model\n",
        "  def forward(self, x: torch.Tensor) -> torch.Tensor: # We pass little x because quite often little x is passed and not the capital one\n",
        "    return self.weights * x + self.bias #This is the linear regression formula\n"
      ],
      "metadata": {
        "id": "sQnFJETI7Bfa"
      },
      "execution_count": 59,
      "outputs": []
    },
    {
      "cell_type": "markdown",
      "source": [
        "### PyTorch model building essentials\n",
        "\n",
        "* torch.nn -> Contains all of the buildings for computational graphs\n",
        "* torch.nn.Parameter -> What params should our model try and Learn\n",
        "* torch.nn.Module -> The base class for all NN modules, if you subclass it you should overwrite forward()\n",
        "* torch.optim -> This is where the optimizers live and they will help with Gradian Descent\n",
        "* def forward() -> All nn.Module subclasses require you to overwrite forward()"
      ],
      "metadata": {
        "id": "2AG6c_EaATf7"
      }
    },
    {
      "cell_type": "markdown",
      "source": [
        "### PyTorch Workflow\n",
        "1. Get data ready\n",
        " * torchvision.tranforms\n",
        " * torch.utils.data.Dataset\n",
        " * torch.utils.data.DataLoader\n",
        "2. Build or pick a model\n",
        "  * torch.nn\n",
        "  * torch.nn.Module\n",
        "  * torchvision.models\n",
        "3. Fit the model to the data and make a prediction\n",
        "\n",
        "4. Evaluate the model\n",
        "  * torchmetrics\n",
        "5. Improve through experimentation\n",
        "  * torch.utils.tensorboard\n",
        "6. Save and reload your trained model\n"
      ],
      "metadata": {
        "id": "2dQb2k99D6WP"
      }
    },
    {
      "cell_type": "markdown",
      "source": [
        "### Checking the contents of out PyTorch model\n",
        "\n",
        "Now we've created a model, lets see whats inside.\n",
        "\n",
        "So we can check our model parameters or whats inside using `.parameters()`"
      ],
      "metadata": {
        "id": "job1aJBcJr_L"
      }
    },
    {
      "cell_type": "code",
      "source": [
        "# Create a random seed\n",
        "torch.manual_seed(42)\n",
        "\n",
        "# Create a model instance\n",
        "model_0 = LinearRegressionModel()\n",
        "\n",
        "# Check the model parameters\n",
        "list(model_0.parameters())"
      ],
      "metadata": {
        "colab": {
          "base_uri": "https://localhost:8080/"
        },
        "id": "ahNw5mUrK3K1",
        "outputId": "ba53c0b1-b08c-40f6-bbd1-862c78c222f8"
      },
      "execution_count": 60,
      "outputs": [
        {
          "output_type": "execute_result",
          "data": {
            "text/plain": [
              "[Parameter containing:\n",
              " tensor([0.3367], requires_grad=True),\n",
              " Parameter containing:\n",
              " tensor([0.1288], requires_grad=True)]"
            ]
          },
          "metadata": {},
          "execution_count": 60
        }
      ]
    },
    {
      "cell_type": "code",
      "source": [
        "# List named parameters\n",
        "model_0.state_dict()"
      ],
      "metadata": {
        "colab": {
          "base_uri": "https://localhost:8080/"
        },
        "id": "3tqrN67-K3HY",
        "outputId": "dad9b579-867a-4257-99dc-7dda75ed8488"
      },
      "execution_count": 61,
      "outputs": [
        {
          "output_type": "execute_result",
          "data": {
            "text/plain": [
              "OrderedDict([('weights', tensor([0.3367])), ('bias', tensor([0.1288]))])"
            ]
          },
          "metadata": {},
          "execution_count": 61
        }
      ]
    },
    {
      "cell_type": "markdown",
      "source": [
        "### Making predictions using `torch.inference_mode`\n",
        "\n",
        "To check our model's predctive power, let's see how well it predicts `y_test` based on `X_test`.\n",
        "\n",
        "When we pass data through our model, it's going to run it through the forward method."
      ],
      "metadata": {
        "id": "Ye-B9ir7Od4W"
      }
    },
    {
      "cell_type": "code",
      "source": [
        "# Make predictions with model\n",
        "# So with the word \"With\" here it makes things faster and makes sure\n",
        "# that we dont accidentaly modify our model and hange its gradients.\n",
        "with torch.inference_mode(): # Inference here turns off the gradient tracking\n",
        "  y_preds = model_0(X_test)\n",
        "\n",
        "# We could use the `torch.no_grad():` here as well but it doesnt\n",
        "# save up on memory and its partially inferior.\n",
        "\n",
        "y_preds, y_test"
      ],
      "metadata": {
        "colab": {
          "base_uri": "https://localhost:8080/"
        },
        "id": "YovwLkDMLKvg",
        "outputId": "63081843-06e1-4ae6-f35c-4f7350163af1"
      },
      "execution_count": 62,
      "outputs": [
        {
          "output_type": "execute_result",
          "data": {
            "text/plain": [
              "(tensor([[0.3982],\n",
              "         [0.4049],\n",
              "         [0.4116],\n",
              "         [0.4184],\n",
              "         [0.4251],\n",
              "         [0.4318],\n",
              "         [0.4386],\n",
              "         [0.4453],\n",
              "         [0.4520],\n",
              "         [0.4588]]),\n",
              " tensor([[0.8600],\n",
              "         [0.8740],\n",
              "         [0.8880],\n",
              "         [0.9020],\n",
              "         [0.9160],\n",
              "         [0.9300],\n",
              "         [0.9440],\n",
              "         [0.9580],\n",
              "         [0.9720],\n",
              "         [0.9860]]))"
            ]
          },
          "metadata": {},
          "execution_count": 62
        }
      ]
    },
    {
      "cell_type": "code",
      "source": [
        "plot_predictions(predictions=y_preds)"
      ],
      "metadata": {
        "colab": {
          "base_uri": "https://localhost:8080/",
          "height": 444
        },
        "id": "a20klAzbL5oo",
        "outputId": "6ee57147-0ddf-43f4-e3dd-0905cb64a283"
      },
      "execution_count": 63,
      "outputs": [
        {
          "output_type": "display_data",
          "data": {
            "text/plain": [
              "<Figure size 1000x700 with 1 Axes>"
            ],
            "image/png": "[encoded data removed]"
          },
          "metadata": {}
        }
      ]
    },
    {
      "cell_type": "markdown",
      "source": [
        "## 3. Train your model\n",
        "\n",
        "The whole idea of training a model is for a model to move from some\n",
        "unknown params (could be random) to some *known* param.\n",
        "\n",
        "or in other words from a poor representation of the data to a better representation\n",
        "of our data\n",
        "\n",
        "One way to measure how poor or how wrong our model's predictions are to use a loss function.\n",
        "\n",
        "We have a fair few Loss Function built in. (Keep in mind that they can be reffered to as Cost function or criterion.\n",
        "\n",
        "Things we need to train:\n",
        "\n",
        "* **Loss function:** A function to measure how wrong our output is compared to our actual expected output. Lower is obv better.\n",
        "* **Optimizer: ** Takes into account the loss of a model and adjusts the model's params.\n",
        "\n",
        "And specifically for PyTorch, we need:\n",
        "* A training loop\n",
        "* A testing loop"
      ],
      "metadata": {
        "id": "Y7a_DutbNRHB"
      }
    },
    {
      "cell_type": "code",
      "source": [
        "list(model_0.parameters())"
      ],
      "metadata": {
        "colab": {
          "base_uri": "https://localhost:8080/"
        },
        "id": "aTCX98E6QdDd",
        "outputId": "8cfa6513-1b55-495d-9658-1c45eeecc784"
      },
      "execution_count": 64,
      "outputs": [
        {
          "output_type": "execute_result",
          "data": {
            "text/plain": [
              "[Parameter containing:\n",
              " tensor([0.3367], requires_grad=True),\n",
              " Parameter containing:\n",
              " tensor([0.1288], requires_grad=True)]"
            ]
          },
          "metadata": {},
          "execution_count": 64
        }
      ]
    },
    {
      "cell_type": "code",
      "source": [
        "# But if we want to get this list as labeled and more defined\n",
        "# We can use this command\n",
        "model_0.state_dict()"
      ],
      "metadata": {
        "colab": {
          "base_uri": "https://localhost:8080/"
        },
        "id": "TV9lqFzISoni",
        "outputId": "8b1ce7d5-54d9-43a0-b805-e829015091d3"
      },
      "execution_count": 65,
      "outputs": [
        {
          "output_type": "execute_result",
          "data": {
            "text/plain": [
              "OrderedDict([('weights', tensor([0.3367])), ('bias', tensor([0.1288]))])"
            ]
          },
          "metadata": {},
          "execution_count": 65
        }
      ]
    },
    {
      "cell_type": "code",
      "source": [
        "# Setup a Loss Function\n",
        "loss_fn = nn.L1Loss() # MAE Loss\n",
        "\n",
        "# Setup an optimizer\n",
        "optimizer = torch.optim.SGD(params=model_0.parameters(),\n",
        "                            lr=0.01) # lr = Learning rate = possibly the most important hyperparameteryo u can set\n",
        "# if lr = 0.001 its the decimal that it will adjust in each hit\n",
        "# for example if our first component in our tensor is 0.3871 it will start changing\n",
        "#from 0.007 of 0.3871"
      ],
      "metadata": {
        "id": "r428doMKTPp2"
      },
      "execution_count": 68,
      "outputs": []
    },
    {
      "cell_type": "markdown",
      "source": [
        "### How do we decide which loss function and optimizer should we use in our project and for our model?\n",
        "\n",
        "This is completely probem-specific. But further down the line we will get a sense of what works for our model and what doesnt.\n",
        "\n",
        "For example, for a regression problem like we have here, a loss function of `nn.L1Loss()` and an optimizer like `torch.optim.SGD()` will suffice.\n",
        "\n",
        "But for a classification problem like classifying whether a photo is of a dog or a cat, we'll likely use a loss function of `nn.BCELoss` (Binary cross entropy loss)\n",
        "\n",
        "Really useful resource for this part:\n",
        "https://www.cmarix.com/qanda/choosing-the-right-loss-function-for-ai-model-training/?utm_source=chatgpt.com"
      ],
      "metadata": {
        "id": "8jByxl5ejVK4"
      }
    },
    {
      "cell_type": "markdown",
      "source": [
        "### Now we are going to make a training loop and a testing loop that we can use to train our model\n",
        "\n",
        "0. Loop through the data\n",
        "1. Forward pass (this involbed data moving through our model's `forward()` functions) to make predictions on data - also called forward propagation\n",
        "2. Calculate the loss (compare forward pass predictions to ground truth labels)\n",
        "3. Optimizer zero grad\n",
        "4. Loss backward - moves backward through our Network to calculate the gradients of each of the parameters of our model with respect to the loss (**BackPropagation**)\n",
        "5. Optimizer step - use the optimizer to adjust our model's params to try and improve the loss (**Gradient Descent**)"
      ],
      "metadata": {
        "id": "5WDxyk_6gXaZ"
      }
    },
    {
      "cell_type": "code",
      "source": [
        "# Epoch is the number of our loops (It is a hyperparam because we set it ourselves)\n",
        "epochs = 1\n",
        "\n",
        "# 0. Loop through the data\n",
        "for epoch in range(epochs):\n",
        "  # Set the model to training mode\n",
        "  model_0.train() # trainmode in pytorch sets all params that require grads to True\n",
        "\n",
        "  # 1. Forward pass\n"
      ],
      "metadata": {
        "id": "A37qSU-MjBYJ"
      },
      "execution_count": null,
      "outputs": []
    }
  ]
}