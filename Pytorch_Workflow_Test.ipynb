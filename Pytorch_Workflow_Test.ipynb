{
  "cells": [
    {
      "cell_type": "markdown",
      "metadata": {
        "id": "view-in-github",
        "colab_type": "text"
      },
      "source": [
        "<a href=\"https://colab.research.google.com/github/BurnTheBunsen/pytorch-deep-learning-test/blob/main/Pytorch_Workflow_Test.ipynb\" target=\"_parent\"><img src=\"https://colab.research.google.com/assets/colab-badge.svg\" alt=\"Open In Colab\"/></a>"
      ]
    },
    {
      "cell_type": "code",
      "execution_count": 1,
      "metadata": {
        "colab": {
          "base_uri": "https://localhost:8080/"
        },
        "id": "p_kE_wl7MmRM",
        "outputId": "2da9c2a2-e2b8-4666-8580-4faa00c9c8d6"
      },
      "outputs": [
        {
          "output_type": "execute_result",
          "data": {
            "text/plain": [
              "{1: 'data (preparing and loading)',\n",
              " 2: 'build a model',\n",
              " 3: 'fitting the model to data (training)',\n",
              " 4: 'making predictions and evaluting a model (inference)',\n",
              " 5: 'saving and loading a model',\n",
              " 6: 'putting it all together'}"
            ]
          },
          "metadata": {},
          "execution_count": 1
        }
      ],
      "source": [
        "what_were_covering = {1: \"data (preparing and loading)\",\n",
        "                      2: \"build a model\",\n",
        "                      3: \"fitting the model to data (training)\",\n",
        "                      4: \"making predictions and evaluting a model (inference)\",\n",
        "                      5: \"saving and loading a model\",\n",
        "                      6: \"putting it all together\"\n",
        "                      }\n",
        "what_were_covering"
      ]
    },
    {
      "cell_type": "code",
      "execution_count": 2,
      "metadata": {
        "id": "ZYQZvphqUyle",
        "colab": {
          "base_uri": "https://localhost:8080/",
          "height": 35
        },
        "outputId": "947cf0d8-8287-436e-ee70-d7d3636966ef"
      },
      "outputs": [
        {
          "output_type": "execute_result",
          "data": {
            "text/plain": [
              "'2.8.0+cu126'"
            ],
            "application/vnd.google.colaboratory.intrinsic+json": {
              "type": "string"
            }
          },
          "metadata": {},
          "execution_count": 2
        }
      ],
      "source": [
        "import torch\n",
        "import torch.nn as nn\n",
        "import matplotlib.pyplot as plt\n",
        "torch.__version__"
      ]
    },
    {
      "cell_type": "markdown",
      "metadata": {
        "id": "xEdzt9t7V5OL"
      },
      "source": [
        "##1. Data preparing and loading\n",
        "A. Get data into a numerical representation\n",
        "\n",
        "B. Build a model to learn patterns in that numerical representation"
      ]
    },
    {
      "cell_type": "code",
      "execution_count": 3,
      "metadata": {
        "id": "c5g5Zkk4Wggm",
        "colab": {
          "base_uri": "https://localhost:8080/"
        },
        "outputId": "4d1f39f1-5a65-4e47-9108-33bed57665f1"
      },
      "outputs": [
        {
          "output_type": "execute_result",
          "data": {
            "text/plain": [
              "(tensor([[0.0000],\n",
              "         [0.0200],\n",
              "         [0.0400],\n",
              "         [0.0600],\n",
              "         [0.0800],\n",
              "         [0.1000],\n",
              "         [0.1200],\n",
              "         [0.1400],\n",
              "         [0.1600],\n",
              "         [0.1800]]),\n",
              " tensor([[0.3000],\n",
              "         [0.3140],\n",
              "         [0.3280],\n",
              "         [0.3420],\n",
              "         [0.3560],\n",
              "         [0.3700],\n",
              "         [0.3840],\n",
              "         [0.3980],\n",
              "         [0.4120],\n",
              "         [0.4260]]),\n",
              " 50,\n",
              " 50)"
            ]
          },
          "metadata": {},
          "execution_count": 3
        }
      ],
      "source": [
        "# Create a known parameter\n",
        "weight = 0.7\n",
        "bias = 0.3\n",
        "\n",
        "# Create\n",
        "start = 0\n",
        "end = 1\n",
        "step = 0.02\n",
        "# Why is X capital here? because it is typically a matrix or a tensor\n",
        "X =  torch.arange(start, end, step).unsqueeze(dim=1) # This is our input\n",
        "y = weight * X + bias # This is our ideal output\n",
        "X[:10], y[:10], len(X), len(y)"
      ]
    },
    {
      "cell_type": "markdown",
      "metadata": {
        "id": "4M2h9_dVZKD6"
      },
      "source": [
        "# Splitting data into training and test sets (one of the most impotant conceptst in ML in general)\n",
        "So we have 3 sets of data:\n",
        "1. Training set 60~80%\n",
        "2. Validation set (You dont always use this one) 10~20%\n",
        "3. Test set 10~20%"
      ]
    },
    {
      "cell_type": "code",
      "execution_count": 4,
      "metadata": {
        "id": "W_n-7Kp2benN",
        "colab": {
          "base_uri": "https://localhost:8080/"
        },
        "outputId": "71c1a25f-ed81-4eca-a685-fec564547e52"
      },
      "outputs": [
        {
          "output_type": "execute_result",
          "data": {
            "text/plain": [
              "(40, 40, 10, 10)"
            ]
          },
          "metadata": {},
          "execution_count": 4
        }
      ],
      "source": [
        "#Create a train/test split\n",
        "train_split = int(0.8 *len(X))\n",
        "X_train, y_train = X[:train_split], y[:train_split]\n",
        "X_test, y_test = X[train_split:], y[train_split:]\n",
        "\n",
        "len(X_train), len(y_train), len(X_test), len(y_test)"
      ]
    },
    {
      "cell_type": "code",
      "execution_count": 5,
      "metadata": {
        "id": "CQqXsK54bqgj",
        "colab": {
          "base_uri": "https://localhost:8080/"
        },
        "outputId": "c65b8f5b-fd3e-4506-f5b7-3d5c27f95921"
      },
      "outputs": [
        {
          "output_type": "execute_result",
          "data": {
            "text/plain": [
              "(tensor([[0.0000],\n",
              "         [0.0200],\n",
              "         [0.0400],\n",
              "         [0.0600],\n",
              "         [0.0800],\n",
              "         [0.1000],\n",
              "         [0.1200],\n",
              "         [0.1400],\n",
              "         [0.1600],\n",
              "         [0.1800],\n",
              "         [0.2000],\n",
              "         [0.2200],\n",
              "         [0.2400],\n",
              "         [0.2600],\n",
              "         [0.2800],\n",
              "         [0.3000],\n",
              "         [0.3200],\n",
              "         [0.3400],\n",
              "         [0.3600],\n",
              "         [0.3800],\n",
              "         [0.4000],\n",
              "         [0.4200],\n",
              "         [0.4400],\n",
              "         [0.4600],\n",
              "         [0.4800],\n",
              "         [0.5000],\n",
              "         [0.5200],\n",
              "         [0.5400],\n",
              "         [0.5600],\n",
              "         [0.5800],\n",
              "         [0.6000],\n",
              "         [0.6200],\n",
              "         [0.6400],\n",
              "         [0.6600],\n",
              "         [0.6800],\n",
              "         [0.7000],\n",
              "         [0.7200],\n",
              "         [0.7400],\n",
              "         [0.7600],\n",
              "         [0.7800]]),\n",
              " tensor([[0.3000],\n",
              "         [0.3140],\n",
              "         [0.3280],\n",
              "         [0.3420],\n",
              "         [0.3560],\n",
              "         [0.3700],\n",
              "         [0.3840],\n",
              "         [0.3980],\n",
              "         [0.4120],\n",
              "         [0.4260],\n",
              "         [0.4400],\n",
              "         [0.4540],\n",
              "         [0.4680],\n",
              "         [0.4820],\n",
              "         [0.4960],\n",
              "         [0.5100],\n",
              "         [0.5240],\n",
              "         [0.5380],\n",
              "         [0.5520],\n",
              "         [0.5660],\n",
              "         [0.5800],\n",
              "         [0.5940],\n",
              "         [0.6080],\n",
              "         [0.6220],\n",
              "         [0.6360],\n",
              "         [0.6500],\n",
              "         [0.6640],\n",
              "         [0.6780],\n",
              "         [0.6920],\n",
              "         [0.7060],\n",
              "         [0.7200],\n",
              "         [0.7340],\n",
              "         [0.7480],\n",
              "         [0.7620],\n",
              "         [0.7760],\n",
              "         [0.7900],\n",
              "         [0.8040],\n",
              "         [0.8180],\n",
              "         [0.8320],\n",
              "         [0.8460]]))"
            ]
          },
          "metadata": {},
          "execution_count": 5
        }
      ],
      "source": [
        "X_train, y_train"
      ]
    },
    {
      "cell_type": "markdown",
      "metadata": {
        "id": "rgRbldiBcvFz"
      },
      "source": [
        "# How can we better visualize our data?"
      ]
    },
    {
      "cell_type": "code",
      "execution_count": 6,
      "metadata": {
        "id": "5sHTgcV4c310"
      },
      "outputs": [],
      "source": [
        "def plot_predictions(train_data=X_train,\n",
        "                     train_labels=y_train,\n",
        "                     test_data=X_test,\n",
        "                     test_labels=y_test,\n",
        "                     predictions=None):\n",
        "  \"\"\"\n",
        "  Plots training data, test data and compares predictions.\n",
        "  \"\"\"\n",
        "  plt.figure(figsize=(10,7))\n",
        "\n",
        "  # Plot training data in blue\n",
        "  plt.scatter(train_data, train_labels, c=\"b\", s=4, label=\"Training data\")\n",
        "\n",
        "  # Plot training data in blue\n",
        "  plt.scatter(test_data, test_labels, c=\"g\", s=4, label=\"Testing data\")\n",
        "\n",
        "  # Are there predictions?\n",
        "  if predictions is not None:\n",
        "    # Plot predictions if they exist\n",
        "    plt.scatter(test_data, predictions, c=\"r\", s=4, label=\"Predictions\")\n",
        "\n",
        "    # Show the legend\n",
        "    plt.legend(prop={\"size\": 14});"
      ]
    },
    {
      "cell_type": "code",
      "execution_count": 7,
      "metadata": {
        "id": "GyWQmoSF5XyR",
        "colab": {
          "base_uri": "https://localhost:8080/",
          "height": 444
        },
        "outputId": "63e57a92-9d2b-423e-c8ae-2599e44b9e0d"
      },
      "outputs": [
        {
          "output_type": "display_data",
          "data": {
            "text/plain": [
              "<Figure size 1000x700 with 1 Axes>"
            ],
            "image/png": "[encoded data removed]"
          },
          "metadata": {}
        }
      ],
      "source": [
        "plot_predictions()"
      ]
    },
    {
      "cell_type": "markdown",
      "metadata": {
        "id": "d0gdQNYY6LdZ"
      },
      "source": [
        "## 2. Build model\n",
        "\n",
        "Our first PyTorch model\n"
      ]
    },
    {
      "cell_type": "code",
      "execution_count": 8,
      "metadata": {
        "id": "sQnFJETI7Bfa"
      },
      "outputs": [],
      "source": [
        "from torch import nn\n",
        "\n",
        "class LinearRegressionModel(nn.Module):\n",
        "  def __init__(self):\n",
        "    super().__init__()\n",
        "    self.weights = nn.Parameter(torch.randn(1,\n",
        "                                            requires_grad=True,\n",
        "                                            dtype=torch.float))\n",
        "    #\"requires_grad=True\" just tells pytorch that this parameter\n",
        "    #is supposed to be updated via\n",
        "    self.bias = nn.Parameter(torch.randn(1,\n",
        "                                         requires_grad=True,\n",
        "                                         dtype=torch.float))\n",
        "    # Forward method to define the computation in the model\n",
        "  def forward(self, x: torch.Tensor) -> torch.Tensor: # We pass little x because quite often little x is passed and not the capital one\n",
        "    return self.weights * x + self.bias #This is the linear regression formula\n"
      ]
    },
    {
      "cell_type": "markdown",
      "metadata": {
        "id": "2AG6c_EaATf7"
      },
      "source": [
        "### PyTorch model building essentials\n",
        "\n",
        "* torch.nn -> Contains all of the buildings for computational graphs\n",
        "* torch.nn.Parameter -> What params should our model try and Learn\n",
        "* torch.nn.Module -> The base class for all NN modules, if you subclass it you should overwrite forward()\n",
        "* torch.optim -> This is where the optimizers live and they will help with Gradian Descent\n",
        "* def forward() -> All nn.Module subclasses require you to overwrite forward()"
      ]
    },
    {
      "cell_type": "markdown",
      "metadata": {
        "id": "2dQb2k99D6WP"
      },
      "source": [
        "### PyTorch Workflow\n",
        "1. Get data ready\n",
        " * torchvision.tranforms\n",
        " * torch.utils.data.Dataset\n",
        " * torch.utils.data.DataLoader\n",
        "2. Build or pick a model\n",
        "  * torch.nn\n",
        "  * torch.nn.Module\n",
        "  * torchvision.models\n",
        "3. Fit the model to the data and make a prediction\n",
        "\n",
        "4. Evaluate the model\n",
        "  * torchmetrics\n",
        "5. Improve through experimentation\n",
        "  * torch.utils.tensorboard\n",
        "6. Save and reload your trained model\n"
      ]
    },
    {
      "cell_type": "markdown",
      "metadata": {
        "id": "job1aJBcJr_L"
      },
      "source": [
        "### Checking the contents of out PyTorch model\n",
        "\n",
        "Now we've created a model, lets see whats inside.\n",
        "\n",
        "So we can check our model parameters or whats inside using `.parameters()`"
      ]
    },
    {
      "cell_type": "code",
      "execution_count": 9,
      "metadata": {
        "id": "ahNw5mUrK3K1",
        "colab": {
          "base_uri": "https://localhost:8080/"
        },
        "outputId": "b9f32d3a-21a7-4fe8-cc01-57f338e09a8f"
      },
      "outputs": [
        {
          "output_type": "execute_result",
          "data": {
            "text/plain": [
              "[Parameter containing:\n",
              " tensor([0.3367], requires_grad=True),\n",
              " Parameter containing:\n",
              " tensor([0.1288], requires_grad=True)]"
            ]
          },
          "metadata": {},
          "execution_count": 9
        }
      ],
      "source": [
        "# Create a random seed\n",
        "torch.manual_seed(42)\n",
        "\n",
        "# Create a model instance\n",
        "model_0 = LinearRegressionModel()\n",
        "\n",
        "# Check the model parameters\n",
        "list(model_0.parameters())"
      ]
    },
    {
      "cell_type": "code",
      "execution_count": 10,
      "metadata": {
        "id": "3tqrN67-K3HY",
        "colab": {
          "base_uri": "https://localhost:8080/"
        },
        "outputId": "982d8c29-3050-48c4-be86-7ad65297bdea"
      },
      "outputs": [
        {
          "output_type": "execute_result",
          "data": {
            "text/plain": [
              "OrderedDict([('weights', tensor([0.3367])), ('bias', tensor([0.1288]))])"
            ]
          },
          "metadata": {},
          "execution_count": 10
        }
      ],
      "source": [
        "# List named parameters\n",
        "model_0.state_dict()"
      ]
    },
    {
      "cell_type": "markdown",
      "metadata": {
        "id": "Ye-B9ir7Od4W"
      },
      "source": [
        "### Making predictions using `torch.inference_mode`\n",
        "\n",
        "To check our model's predctive power, let's see how well it predicts `y_test` based on `X_test`.\n",
        "\n",
        "When we pass data through our model, it's going to run it through the forward method."
      ]
    },
    {
      "cell_type": "code",
      "execution_count": 11,
      "metadata": {
        "id": "YovwLkDMLKvg",
        "colab": {
          "base_uri": "https://localhost:8080/"
        },
        "outputId": "e5b5249b-974c-45b3-a151-f0b79486aa7d"
      },
      "outputs": [
        {
          "output_type": "execute_result",
          "data": {
            "text/plain": [
              "(tensor([[0.3982],\n",
              "         [0.4049],\n",
              "         [0.4116],\n",
              "         [0.4184],\n",
              "         [0.4251],\n",
              "         [0.4318],\n",
              "         [0.4386],\n",
              "         [0.4453],\n",
              "         [0.4520],\n",
              "         [0.4588]]),\n",
              " tensor([[0.8600],\n",
              "         [0.8740],\n",
              "         [0.8880],\n",
              "         [0.9020],\n",
              "         [0.9160],\n",
              "         [0.9300],\n",
              "         [0.9440],\n",
              "         [0.9580],\n",
              "         [0.9720],\n",
              "         [0.9860]]))"
            ]
          },
          "metadata": {},
          "execution_count": 11
        }
      ],
      "source": [
        "# Make predictions with model\n",
        "# So with the word \"With\" here it makes things faster and makes sure\n",
        "# that we dont accidentaly modify our model and hange its gradients.\n",
        "with torch.inference_mode(): # Inference here turns off the gradient tracking\n",
        "  y_preds = model_0(X_test)\n",
        "\n",
        "# We could use the `torch.no_grad():` here as well but it doesnt\n",
        "# save up on memory and its partially inferior.\n",
        "\n",
        "y_preds, y_test"
      ]
    },
    {
      "cell_type": "code",
      "execution_count": 12,
      "metadata": {
        "id": "a20klAzbL5oo",
        "colab": {
          "base_uri": "https://localhost:8080/",
          "height": 444
        },
        "outputId": "0e032676-70e9-4d15-8828-51a73471f329"
      },
      "outputs": [
        {
          "output_type": "display_data",
          "data": {
            "text/plain": [
              "<Figure size 1000x700 with 1 Axes>"
            ],
            "image/png": "[encoded data removed]"
          },
          "metadata": {}
        }
      ],
      "source": [
        "plot_predictions(predictions=y_preds)"
      ]
    },
    {
      "cell_type": "markdown",
      "metadata": {
        "id": "Y7a_DutbNRHB"
      },
      "source": [
        "## 3. Train your model\n",
        "\n",
        "The whole idea of training a model is for a model to move from some\n",
        "unknown params (could be random) to some *known* param.\n",
        "\n",
        "or in other words from a poor representation of the data to a better representation\n",
        "of our data\n",
        "\n",
        "One way to measure how poor or how wrong our model's predictions are to use a loss function.\n",
        "\n",
        "We have a fair few Loss Function built in. (Keep in mind that they can be reffered to as Cost function or criterion.\n",
        "\n",
        "Things we need to train:\n",
        "\n",
        "* **Loss function:** A function to measure how wrong our output is compared to our actual expected output. Lower is obv better.\n",
        "* **Optimizer: ** Takes into account the loss of a model and adjusts the model's params.\n",
        "\n",
        "And specifically for PyTorch, we need:\n",
        "* A training loop\n",
        "* A testing loop"
      ]
    },
    {
      "cell_type": "code",
      "execution_count": 13,
      "metadata": {
        "id": "aTCX98E6QdDd",
        "colab": {
          "base_uri": "https://localhost:8080/"
        },
        "outputId": "ee656db6-00a4-48b7-b9a1-17838314b4ba"
      },
      "outputs": [
        {
          "output_type": "execute_result",
          "data": {
            "text/plain": [
              "[Parameter containing:\n",
              " tensor([0.3367], requires_grad=True),\n",
              " Parameter containing:\n",
              " tensor([0.1288], requires_grad=True)]"
            ]
          },
          "metadata": {},
          "execution_count": 13
        }
      ],
      "source": [
        "list(model_0.parameters())"
      ]
    },
    {
      "cell_type": "code",
      "execution_count": 14,
      "metadata": {
        "id": "TV9lqFzISoni",
        "colab": {
          "base_uri": "https://localhost:8080/"
        },
        "outputId": "68fb9ca6-1df1-468b-bedd-665c69ceed68"
      },
      "outputs": [
        {
          "output_type": "execute_result",
          "data": {
            "text/plain": [
              "OrderedDict([('weights', tensor([0.3367])), ('bias', tensor([0.1288]))])"
            ]
          },
          "metadata": {},
          "execution_count": 14
        }
      ],
      "source": [
        "# But if we want to get this list as labeled and more defined\n",
        "# We can use this command\n",
        "model_0.state_dict()"
      ]
    },
    {
      "cell_type": "code",
      "execution_count": 15,
      "metadata": {
        "id": "r428doMKTPp2"
      },
      "outputs": [],
      "source": [
        "# Setup a Loss Function\n",
        "loss_fn = nn.L1Loss() # MAE Loss\n",
        "\n",
        "# Setup an optimizer\n",
        "optimizer = torch.optim.SGD(params=model_0.parameters(),\n",
        "                            lr=0.01) # lr = Learning rate = possibly the most important hyperparameteryo u can set\n",
        "# if lr = 0.001 its the decimal that it will adjust in each hit\n",
        "# for example if our first component in our tensor is 0.3871 it will start changing\n",
        "#from 0.007 of 0.3871"
      ]
    },
    {
      "cell_type": "markdown",
      "metadata": {
        "id": "8jByxl5ejVK4"
      },
      "source": [
        "### How do we decide which loss function and optimizer should we use in our project and for our model?\n",
        "\n",
        "This is completely probem-specific. But further down the line we will get a sense of what works for our model and what doesnt.\n",
        "\n",
        "For example, for a regression problem like we have here, a loss function of `nn.L1Loss()` and an optimizer like `torch.optim.SGD()` will suffice.\n",
        "\n",
        "But for a classification problem like classifying whether a photo is of a dog or a cat, we'll likely use a loss function of `nn.BCELoss` (Binary cross entropy loss)\n",
        "\n",
        "Really useful resource for this part:\n",
        "https://www.cmarix.com/qanda/choosing-the-right-loss-function-for-ai-model-training/?utm_source=chatgpt.com"
      ]
    },
    {
      "cell_type": "markdown",
      "metadata": {
        "id": "5WDxyk_6gXaZ"
      },
      "source": [
        "### Now we are going to make a training loop and a testing loop that we can use to train our model\n",
        "\n",
        "0. Loop through the data\n",
        "1. Forward pass (this involbed data moving through our model's `forward()` functions) to make predictions on data - also called forward propagation\n",
        "2. Calculate the loss (compare forward pass predictions to ground truth labels)\n",
        "3. Optimizer zero grad\n",
        "4. Loss backward - moves backward through our Network to calculate the gradients of each of the parameters of our model with respect to the loss (**BackPropagation**)\n",
        "5. Optimizer step - use the optimizer to adjust our model's params to try and improve the loss (**Gradient Descent**)"
      ]
    },
    {
      "cell_type": "code",
      "execution_count": 16,
      "metadata": {
        "id": "A37qSU-MjBYJ",
        "colab": {
          "base_uri": "https://localhost:8080/"
        },
        "outputId": "b8ea02bf-76f3-4fa5-badc-cb29bf032492"
      },
      "outputs": [
        {
          "output_type": "stream",
          "name": "stdout",
          "text": [
            "Epoch: 0 | Loss: 0.31288138031959534 | Test loss: 0.48106518387794495\n",
            "OrderedDict({'weights': tensor([0.3406]), 'bias': tensor([0.1388])})\n",
            "Epoch: 10 | Loss: 0.1976713240146637 | Test loss: 0.3463551998138428\n",
            "OrderedDict({'weights': tensor([0.3796]), 'bias': tensor([0.2388])})\n",
            "Epoch: 20 | Loss: 0.08908725529909134 | Test loss: 0.21729660034179688\n",
            "OrderedDict({'weights': tensor([0.4184]), 'bias': tensor([0.3333])})\n",
            "Epoch: 30 | Loss: 0.053148526698350906 | Test loss: 0.14464017748832703\n",
            "OrderedDict({'weights': tensor([0.4512]), 'bias': tensor([0.3768])})\n",
            "Epoch: 40 | Loss: 0.04543796554207802 | Test loss: 0.11360953003168106\n",
            "OrderedDict({'weights': tensor([0.4748]), 'bias': tensor([0.3868])})\n",
            "Epoch: 50 | Loss: 0.04167863354086876 | Test loss: 0.09919948130846024\n",
            "OrderedDict({'weights': tensor([0.4938]), 'bias': tensor([0.3843])})\n",
            "Epoch: 60 | Loss: 0.03818932920694351 | Test loss: 0.08886633068323135\n",
            "OrderedDict({'weights': tensor([0.5116]), 'bias': tensor([0.3788])})\n",
            "Epoch: 70 | Loss: 0.03476089984178543 | Test loss: 0.0805937647819519\n",
            "OrderedDict({'weights': tensor([0.5288]), 'bias': tensor([0.3718])})\n",
            "Epoch: 80 | Loss: 0.03132382780313492 | Test loss: 0.07232122868299484\n",
            "OrderedDict({'weights': tensor([0.5459]), 'bias': tensor([0.3648])})\n",
            "Epoch: 90 | Loss: 0.02788739837706089 | Test loss: 0.06473556160926819\n",
            "OrderedDict({'weights': tensor([0.5629]), 'bias': tensor([0.3573])})\n",
            "Epoch: 100 | Loss: 0.024458957836031914 | Test loss: 0.05646304413676262\n",
            "OrderedDict({'weights': tensor([0.5800]), 'bias': tensor([0.3503])})\n",
            "Epoch: 110 | Loss: 0.021020207554101944 | Test loss: 0.04819049686193466\n",
            "OrderedDict({'weights': tensor([0.5972]), 'bias': tensor([0.3433])})\n",
            "Epoch: 120 | Loss: 0.01758546568453312 | Test loss: 0.04060482233762741\n",
            "OrderedDict({'weights': tensor([0.6141]), 'bias': tensor([0.3358])})\n",
            "Epoch: 130 | Loss: 0.014155393466353416 | Test loss: 0.03233227878808975\n",
            "OrderedDict({'weights': tensor([0.6313]), 'bias': tensor([0.3288])})\n",
            "Epoch: 140 | Loss: 0.010716589167714119 | Test loss: 0.024059748277068138\n",
            "OrderedDict({'weights': tensor([0.6485]), 'bias': tensor([0.3218])})\n",
            "Epoch: 150 | Loss: 0.0072835334576666355 | Test loss: 0.016474086791276932\n",
            "OrderedDict({'weights': tensor([0.6654]), 'bias': tensor([0.3143])})\n",
            "Epoch: 160 | Loss: 0.0038517764769494534 | Test loss: 0.008201557211577892\n",
            "OrderedDict({'weights': tensor([0.6826]), 'bias': tensor([0.3073])})\n",
            "Epoch: 170 | Loss: 0.008932482451200485 | Test loss: 0.005023092031478882\n",
            "OrderedDict({'weights': tensor([0.6951]), 'bias': tensor([0.2993])})\n",
            "Epoch: 180 | Loss: 0.008932482451200485 | Test loss: 0.005023092031478882\n",
            "OrderedDict({'weights': tensor([0.6951]), 'bias': tensor([0.2993])})\n",
            "Epoch: 190 | Loss: 0.008932482451200485 | Test loss: 0.005023092031478882\n",
            "OrderedDict({'weights': tensor([0.6951]), 'bias': tensor([0.2993])})\n"
          ]
        }
      ],
      "source": [
        "# Epoch is the number of our loops (It is a hyperparam because we set it ourselves)\n",
        "epochs = 200\n",
        "\n",
        "# Track different values\n",
        "epoch_count= []\n",
        "loss_values= []\n",
        "test_loss_values= []\n",
        "\n",
        "\n",
        "# 0. Loop through the data\n",
        "for epoch in range(epochs):\n",
        "  # Set the model to training mode\n",
        "  model_0.train() # trainmode in pytorch sets all params that require grads to True\n",
        "\n",
        "  # 1. Forward pass\n",
        "  y_pred = model_0(X_train)\n",
        "  # 2. Calculate the Loss\n",
        "  loss = loss_fn(y_pred, y_train)\n",
        "  # 3. Optimizer zero grad\n",
        "  optimizer.zero_grad() # We have to zero it out\n",
        "  # 4. Perform backprop on the loss with respect to the params of the model\n",
        "  loss.backward()\n",
        "  # 5. Step the optimizer (perform Gradient descent)\n",
        "  optimizer.step() # by default how the optimizer changes will accumulate through the loop\n",
        "\n",
        "  ### Testing\n",
        "  model_0.eval() # turns off different settings in the model not neede for evaluation/testing (dropout and batchnorm)\n",
        "  with torch.inference_mode(): # turns off gradiet tracking and a couple more things behind the scenes\n",
        "    # 1. Do the forward pass\n",
        "    test_pred = model_0(X_test)\n",
        "\n",
        "    # 2. Calculate the loss\n",
        "    test_loss = loss_fn(test_pred, y_test)\n",
        "\n",
        "  # Print out what is actually happening\n",
        "  if epoch % 10 == 0:\n",
        "    epoch_count.append(epoch)\n",
        "    loss_values.append(loss)\n",
        "    test_loss_values.append(test_loss)\n",
        "    print(f\"Epoch: {epoch} | Loss: {loss} | Test loss: {test_loss}\")\n",
        "\n",
        "    # print out the model state_dict()\n",
        "    print(model_0.state_dict())\n",
        "\n"
      ]
    },
    {
      "cell_type": "code",
      "execution_count": 17,
      "metadata": {
        "colab": {
          "base_uri": "https://localhost:8080/"
        },
        "id": "CG18se0BcqoB",
        "outputId": "50181900-e4d6-4b65-9a8d-d745d4a5e18d"
      },
      "outputs": [
        {
          "output_type": "stream",
          "name": "stderr",
          "text": [
            "/tmp/ipython-input-3402380178.py:3: UserWarning: Converting a tensor with requires_grad=True to a scalar may lead to unexpected behavior.\n",
            "Consider using tensor.detach() first. (Triggered internally at /pytorch/torch/csrc/autograd/generated/python_variable_methods.cpp:835.)\n",
            "  loss_values_numpy = np.array(torch.tensor(loss_values).numpy())\n"
          ]
        }
      ],
      "source": [
        "import numpy as np\n",
        "\n",
        "loss_values_numpy = np.array(torch.tensor(loss_values).numpy())\n",
        "test_loss_values_numpy = np.array(torch.tensor(test_loss_values).numpy())"
      ]
    },
    {
      "cell_type": "code",
      "execution_count": 18,
      "metadata": {
        "colab": {
          "base_uri": "https://localhost:8080/",
          "height": 472
        },
        "id": "m7bM_AiuIClN",
        "outputId": "4127f802-b24f-41b0-c2b9-0c13df6aa98a"
      },
      "outputs": [
        {
          "output_type": "display_data",
          "data": {
            "text/plain": [
              "<Figure size 640x480 with 1 Axes>"
            ],
            "image/png": "[encoded data removed]"
          },
          "metadata": {}
        }
      ],
      "source": [
        "# Plot the loss curves\n",
        "\n",
        "plt.plot(epoch_count, loss_values_numpy, label=\"Training Loss\")\n",
        "plt.plot(epoch_count, test_loss_values_numpy, label=\"Test Loss\")\n",
        "plt.title(\"Training and Test Loss curves\")\n",
        "plt.ylabel(\"Loss\")\n",
        "plt.xlabel(\"Epochs\")\n",
        "plt.legend();"
      ]
    },
    {
      "cell_type": "code",
      "execution_count": 19,
      "metadata": {
        "id": "7-RJLFB63h8R"
      },
      "outputs": [],
      "source": [
        "with torch.inference_mode():\n",
        "  y_preds_new = model_0(X_test)\n",
        "\n",
        "y_preds_new;"
      ]
    },
    {
      "cell_type": "code",
      "execution_count": 20,
      "metadata": {
        "colab": {
          "base_uri": "https://localhost:8080/",
          "height": 444
        },
        "id": "ioVVIDko6CpH",
        "outputId": "a79743bb-36bb-4159-adb1-a92d904a82ad"
      },
      "outputs": [
        {
          "output_type": "display_data",
          "data": {
            "text/plain": [
              "<Figure size 1000x700 with 1 Axes>"
            ],
            "image/png": "[encoded data removed]"
          },
          "metadata": {}
        }
      ],
      "source": [
        "plot_predictions(predictions=test_pred);"
      ]
    },
    {
      "cell_type": "markdown",
      "metadata": {
        "id": "OIJZBgmqGwgh"
      },
      "source": [
        "## Saving a model in pytorch\n",
        "\n",
        "There are three main methods of saving and loading models in PyTorch\n",
        "\n",
        "1. `torch.save()` - Allows us to save a PyTorch object in Python's pickle format\n",
        "2. `torch.load()` - Allows us to load a saved PyTorch object\n",
        "3. `torch.nn.Module.load_state_dict()` - This allows us to load a model's saved state dictionary\n",
        "\n",
        "Extra resource: https://docs.pytorch.org/tutorials/beginner/saving_loading_models.html#saving-loading-a-general-checkpoint-for-inference-and-or-resuming-training\n",
        "\n",
        "We will later work on how to save and load a general checkpoint for our model."
      ]
    },
    {
      "cell_type": "code",
      "execution_count": 21,
      "metadata": {
        "colab": {
          "base_uri": "https://localhost:8080/"
        },
        "id": "4lIb_6AkjhXj",
        "outputId": "b2294050-d82f-4b5b-84ef-6027c6ba393d"
      },
      "outputs": [
        {
          "output_type": "stream",
          "name": "stdout",
          "text": [
            "Saving model to: models/Workflow_test_0.pth\n"
          ]
        }
      ],
      "source": [
        "# Saving our pytorch model\n",
        "from pathlib import Path\n",
        "\n",
        "# 1. Create a model directory\n",
        "MODEL_PATH = Path (\"models\")\n",
        "MODEL_PATH.mkdir(parents=True, exist_ok=True)\n",
        "\n",
        "# 2. Create model save path\n",
        "MODEL_NAME = \"Workflow_test_0.pth\"\n",
        "MODEL_SAVE_PATH = MODEL_PATH / MODEL_NAME\n",
        "print(f'Saving model to: {MODEL_SAVE_PATH}')\n",
        "torch.save(obj=model_0.state_dict(),\n",
        "           f=MODEL_SAVE_PATH)\n",
        "# 3. Save the model state dict\n"
      ]
    },
    {
      "cell_type": "markdown",
      "metadata": {
        "id": "jmZ_b_FWuE1K"
      },
      "source": [
        "## Loading a PyTorch model\n",
        "\n",
        "Since we saved our model\"s `state_dict()` rather tan the entire model, we'll create a new instance of our model class and load the saved `state_dict()` into that."
      ]
    },
    {
      "cell_type": "code",
      "execution_count": 22,
      "metadata": {
        "colab": {
          "base_uri": "https://localhost:8080/"
        },
        "id": "85-tqJ1bufXR",
        "outputId": "1d9266b5-8b97-4954-b829-121b7974ec5a"
      },
      "outputs": [
        {
          "output_type": "execute_result",
          "data": {
            "text/plain": [
              "<All keys matched successfully>"
            ]
          },
          "metadata": {},
          "execution_count": 22
        }
      ],
      "source": [
        "# To load in a saved state_dict we have to instantiate a new instance of our model class\n",
        "loaded_model_0 = LinearRegressionModel()\n",
        "\n",
        "# Load the saved state_dict of model_0 (this will update the new instance with updated params)\n",
        "loaded_model_0.load_state_dict(torch.load(f=MODEL_SAVE_PATH))"
      ]
    },
    {
      "cell_type": "code",
      "execution_count": 23,
      "metadata": {
        "colab": {
          "base_uri": "https://localhost:8080/"
        },
        "id": "eWmI5Vn0v321",
        "outputId": "810314d6-dd8b-4a96-dbdb-f147d40d005f"
      },
      "outputs": [
        {
          "output_type": "execute_result",
          "data": {
            "text/plain": [
              "OrderedDict([('weights', tensor([0.6990])), ('bias', tensor([0.3093]))])"
            ]
          },
          "metadata": {},
          "execution_count": 23
        }
      ],
      "source": [
        "model_0.state_dict()"
      ]
    },
    {
      "cell_type": "code",
      "execution_count": 24,
      "metadata": {
        "colab": {
          "base_uri": "https://localhost:8080/"
        },
        "id": "Lc_RlWRhv51S",
        "outputId": "4804686a-2520-46d1-db36-efdd5dab9391"
      },
      "outputs": [
        {
          "output_type": "execute_result",
          "data": {
            "text/plain": [
              "OrderedDict([('weights', tensor([0.6990])), ('bias', tensor([0.3093]))])"
            ]
          },
          "metadata": {},
          "execution_count": 24
        }
      ],
      "source": [
        "loaded_model_0.state_dict()"
      ]
    },
    {
      "cell_type": "code",
      "execution_count": 25,
      "metadata": {
        "colab": {
          "base_uri": "https://localhost:8080/"
        },
        "id": "t9b1cHZawBAP",
        "outputId": "767cbc49-fe26-4b5a-a484-7d46bf5217a2"
      },
      "outputs": [
        {
          "output_type": "execute_result",
          "data": {
            "text/plain": [
              "tensor([[0.8685],\n",
              "        [0.8825],\n",
              "        [0.8965],\n",
              "        [0.9105],\n",
              "        [0.9245],\n",
              "        [0.9384],\n",
              "        [0.9524],\n",
              "        [0.9664],\n",
              "        [0.9804],\n",
              "        [0.9944]])"
            ]
          },
          "metadata": {},
          "execution_count": 25
        }
      ],
      "source": [
        "# Make some predictions just make sure that our model is working properly\n",
        "loaded_model_0.eval()\n",
        "with torch.inference_mode():\n",
        "  loaded_model_preds = loaded_model_0(X_test)\n",
        "\n",
        "loaded_model_preds"
      ]
    },
    {
      "cell_type": "code",
      "execution_count": 26,
      "metadata": {
        "colab": {
          "base_uri": "https://localhost:8080/"
        },
        "id": "b_JOipLSwURX",
        "outputId": "cc81aff3-f2af-4ef9-c6e7-ce1830ba99a1"
      },
      "outputs": [
        {
          "output_type": "execute_result",
          "data": {
            "text/plain": [
              "tensor([[True],\n",
              "        [True],\n",
              "        [True],\n",
              "        [True],\n",
              "        [True],\n",
              "        [True],\n",
              "        [True],\n",
              "        [True],\n",
              "        [True],\n",
              "        [True]])"
            ]
          },
          "metadata": {},
          "execution_count": 26
        }
      ],
      "source": [
        "# Comper loaded model preds with original model preds\n",
        "y_preds_new == loaded_model_preds"
      ]
    },
    {
      "cell_type": "markdown",
      "metadata": {
        "id": "o5-Jl09_wjc1"
      },
      "source": [
        "### 6. Putting it all together\n",
        "Lets go back through the steps abovr and see it all in one place"
      ]
    },
    {
      "cell_type": "code",
      "execution_count": 27,
      "metadata": {
        "colab": {
          "base_uri": "https://localhost:8080/",
          "height": 35
        },
        "id": "PKR8cqcryAbJ",
        "outputId": "44c85576-48ef-486c-aa2b-10aefc00313b"
      },
      "outputs": [
        {
          "output_type": "execute_result",
          "data": {
            "text/plain": [
              "'2.8.0+cu126'"
            ],
            "application/vnd.google.colaboratory.intrinsic+json": {
              "type": "string"
            }
          },
          "metadata": {},
          "execution_count": 27
        }
      ],
      "source": [
        "# Import Pytorch and matplotlib\n",
        "import torch\n",
        "from torch import nn\n",
        "import matplotlib.pyplot as plt\n",
        "\n",
        "torch.__version__"
      ]
    },
    {
      "cell_type": "code",
      "execution_count": 28,
      "metadata": {
        "id": "hy24my6yyXg1",
        "colab": {
          "base_uri": "https://localhost:8080/"
        },
        "outputId": "a2b4be29-6709-4de1-c26f-804490e3b514"
      },
      "outputs": [
        {
          "output_type": "stream",
          "name": "stdout",
          "text": [
            "Using Device: cuda\n"
          ]
        }
      ],
      "source": [
        "# Setup device agnostic code\n",
        "device = \"cuda\" if torch.cuda.is_available() else \"cpu\"\n",
        "print(f'Using Device: {device}')"
      ]
    },
    {
      "cell_type": "markdown",
      "metadata": {
        "id": "TQKHBvkqxyPN"
      },
      "source": [
        "###6.1 Data"
      ]
    },
    {
      "cell_type": "code",
      "execution_count": 29,
      "metadata": {
        "id": "BkXgQYl5x_k0",
        "colab": {
          "base_uri": "https://localhost:8080/"
        },
        "outputId": "68ae325e-ca0e-472a-f75b-c063795d9105"
      },
      "outputs": [
        {
          "output_type": "execute_result",
          "data": {
            "text/plain": [
              "(tensor([[0.0000],\n",
              "         [0.0200],\n",
              "         [0.0400],\n",
              "         [0.0600],\n",
              "         [0.0800],\n",
              "         [0.1000],\n",
              "         [0.1200],\n",
              "         [0.1400],\n",
              "         [0.1600],\n",
              "         [0.1800]]),\n",
              " tensor([[0.3000],\n",
              "         [0.3140],\n",
              "         [0.3280],\n",
              "         [0.3420],\n",
              "         [0.3560],\n",
              "         [0.3700],\n",
              "         [0.3840],\n",
              "         [0.3980],\n",
              "         [0.4120],\n",
              "         [0.4260]]))"
            ]
          },
          "metadata": {},
          "execution_count": 29
        }
      ],
      "source": [
        "# Create some data using the linear regression formula of y = weight * X + bias\n",
        "weight = 0.7\n",
        "bias = 0.3\n",
        "\n",
        "# Create range values\n",
        "start = 0\n",
        "end = 1\n",
        "step = 0.02\n",
        "\n",
        "#Create X and y (features and label)\n",
        "X = torch.arange(start, end, step).unsqueeze(dim=1)\n",
        "y = weight * X + bias\n",
        "X[:10], y[:10]"
      ]
    },
    {
      "cell_type": "code",
      "execution_count": 30,
      "metadata": {
        "id": "bp8N2U8O0Dut"
      },
      "outputs": [],
      "source": [
        "# Split the data into training and test sets\n",
        "train_split = int(0.8 * len(X))\n",
        "X_train, y_train = X[:train_split], y_train[:train_split]\n",
        "X_test, y_test = X[train_split:], y[train_split:]"
      ]
    },
    {
      "cell_type": "code",
      "execution_count": 31,
      "metadata": {
        "id": "JQyCyf-C08Ha",
        "colab": {
          "base_uri": "https://localhost:8080/",
          "height": 444
        },
        "outputId": "be4f1316-78ab-4ada-ce1b-0b4f99e65302"
      },
      "outputs": [
        {
          "output_type": "display_data",
          "data": {
            "text/plain": [
              "<Figure size 1000x700 with 1 Axes>"
            ],
            "image/png": "[encoded data removed]"
          },
          "metadata": {}
        }
      ],
      "source": [
        "# Now we are going to plot the data\n",
        "plot_predictions(X_train, y_train, X_test, y_test)"
      ]
    },
    {
      "cell_type": "markdown",
      "metadata": {
        "id": "Vbpq60Wj1vq3"
      },
      "source": [
        "## 6.2 Building a PyTorch Linear model"
      ]
    },
    {
      "cell_type": "code",
      "execution_count": 32,
      "metadata": {
        "id": "zlqviq2r2C2G",
        "colab": {
          "base_uri": "https://localhost:8080/"
        },
        "outputId": "f84a38e3-59a3-45ed-9d55-ee423adcf7f1"
      },
      "outputs": [
        {
          "output_type": "execute_result",
          "data": {
            "text/plain": [
              "(LinearRegressionModelV2(\n",
              "   (linear_layer): Linear(in_features=1, out_features=1, bias=True)\n",
              " ),\n",
              " OrderedDict([('linear_layer.weight', tensor([[0.7645]])),\n",
              "              ('linear_layer.bias', tensor([0.8300]))]))"
            ]
          },
          "metadata": {},
          "execution_count": 32
        }
      ],
      "source": [
        "# Create a Linear model by subclassing nn.Module\n",
        "class LinearRegressionModelV2(nn.Module):\n",
        "  def __init__(self):\n",
        "    super().__init__()\n",
        "    # Use nn.Linear() for creating the model's params / also called: Linear transform, probing layer, fully conected layer, DENSE layer\n",
        "    self.linear_layer = nn.Linear(in_features=1,\n",
        "                                  out_features=1) # Each input of X equates to one output of y\n",
        "\n",
        "  def forward(self, x: torch.Tensor) -> torch.Tensor:\n",
        "    return self.linear_layer(x)\n",
        "\n",
        "# Set the manual seed\n",
        "torch.manual_seed(42)\n",
        "model_1 = LinearRegressionModelV2()\n",
        "model_1, model_1.state_dict()"
      ]
    },
    {
      "cell_type": "code",
      "execution_count": 33,
      "metadata": {
        "id": "lurYHWib5Xbt",
        "colab": {
          "base_uri": "https://localhost:8080/"
        },
        "outputId": "26714ad3-d33e-495e-affb-b7160d48e1bf"
      },
      "outputs": [
        {
          "output_type": "execute_result",
          "data": {
            "text/plain": [
              "device(type='cpu')"
            ]
          },
          "metadata": {},
          "execution_count": 33
        }
      ],
      "source": [
        "# Check the model current device\n",
        "next(model_1.parameters()).device"
      ]
    },
    {
      "cell_type": "code",
      "execution_count": 34,
      "metadata": {
        "id": "2mQ0dktH4QzG",
        "colab": {
          "base_uri": "https://localhost:8080/"
        },
        "outputId": "9c953ce9-482c-4515-f4e7-9eef447ddf1b"
      },
      "outputs": [
        {
          "output_type": "execute_result",
          "data": {
            "text/plain": [
              "device(type='cuda', index=0)"
            ]
          },
          "metadata": {},
          "execution_count": 34
        }
      ],
      "source": [
        "# Set the model to use our target device\n",
        "model_1.to(device)\n",
        "next(model_1.parameters()).device"
      ]
    },
    {
      "cell_type": "markdown",
      "metadata": {
        "id": "VNNR9KK55Rin"
      },
      "source": [
        "## 6.3 Training\n",
        "\n",
        "For training we need:\n",
        "\n",
        "* Loss function\n",
        "* Optimizer\n",
        "* Training loop\n",
        "* Testing loop"
      ]
    },
    {
      "cell_type": "code",
      "execution_count": 35,
      "metadata": {
        "id": "lzvLwxOn56NQ"
      },
      "outputs": [],
      "source": [
        "loss_fn = nn.L1Loss()\n",
        "optimizer = torch.optim.SGD(params=model_1.parameters(),\n",
        "                            lr=0.01)"
      ]
    },
    {
      "cell_type": "code",
      "execution_count": 36,
      "metadata": {
        "id": "jLVAIwNr6VVc",
        "colab": {
          "base_uri": "https://localhost:8080/"
        },
        "outputId": "2f32d968-4694-4635-bf51-0c859c118d1b"
      },
      "outputs": [
        {
          "output_type": "stream",
          "name": "stdout",
          "text": [
            "Epoch: 0 | Loss: 0.5551779866218567 | Test Loss: 0.5739762187004089\n",
            "OrderedDict({'linear_layer.weight': tensor([[0.7606]], device='cuda:0'), 'linear_layer.bias': tensor([0.8200], device='cuda:0')})\n",
            "Epoch: 10 | Loss: 0.439968079328537 | Test Loss: 0.4392664134502411\n",
            "OrderedDict({'linear_layer.weight': tensor([[0.7216]], device='cuda:0'), 'linear_layer.bias': tensor([0.7200], device='cuda:0')})\n",
            "Epoch: 20 | Loss: 0.3247582018375397 | Test Loss: 0.30455657839775085\n",
            "OrderedDict({'linear_layer.weight': tensor([[0.6826]], device='cuda:0'), 'linear_layer.bias': tensor([0.6200], device='cuda:0')})\n",
            "Epoch: 30 | Loss: 0.20954833924770355 | Test Loss: 0.16984669864177704\n",
            "OrderedDict({'linear_layer.weight': tensor([[0.6436]], device='cuda:0'), 'linear_layer.bias': tensor([0.5200], device='cuda:0')})\n",
            "Epoch: 40 | Loss: 0.09433845430612564 | Test Loss: 0.03513690456748009\n",
            "OrderedDict({'linear_layer.weight': tensor([[0.6046]], device='cuda:0'), 'linear_layer.bias': tensor([0.4200], device='cuda:0')})\n",
            "Epoch: 50 | Loss: 0.023886388167738914 | Test Loss: 0.04784907028079033\n",
            "OrderedDict({'linear_layer.weight': tensor([[0.5872]], device='cuda:0'), 'linear_layer.bias': tensor([0.3525], device='cuda:0')})\n",
            "Epoch: 60 | Loss: 0.019956795498728752 | Test Loss: 0.045803118497133255\n",
            "OrderedDict({'linear_layer.weight': tensor([[0.6025]], device='cuda:0'), 'linear_layer.bias': tensor([0.3410], device='cuda:0')})\n",
            "Epoch: 70 | Loss: 0.016517987474799156 | Test Loss: 0.037530567497015\n",
            "OrderedDict({'linear_layer.weight': tensor([[0.6196]], device='cuda:0'), 'linear_layer.bias': tensor([0.3340], device='cuda:0')})\n",
            "Epoch: 80 | Loss: 0.013089174404740334 | Test Loss: 0.02994490973651409\n",
            "OrderedDict({'linear_layer.weight': tensor([[0.6366]], device='cuda:0'), 'linear_layer.bias': tensor([0.3265], device='cuda:0')})\n",
            "Epoch: 90 | Loss: 0.009653178043663502 | Test Loss: 0.02167237363755703\n",
            "OrderedDict({'linear_layer.weight': tensor([[0.6537]], device='cuda:0'), 'linear_layer.bias': tensor([0.3195], device='cuda:0')})\n",
            "Epoch: 100 | Loss: 0.006215683650225401 | Test Loss: 0.014086711220443249\n",
            "OrderedDict({'linear_layer.weight': tensor([[0.6707]], device='cuda:0'), 'linear_layer.bias': tensor([0.3120], device='cuda:0')})\n",
            "Epoch: 110 | Loss: 0.00278724217787385 | Test Loss: 0.005814164876937866\n",
            "OrderedDict({'linear_layer.weight': tensor([[0.6878]], device='cuda:0'), 'linear_layer.bias': tensor([0.3050], device='cuda:0')})\n",
            "Epoch: 120 | Loss: 0.0012645035749301314 | Test Loss: 0.013801801018416882\n",
            "OrderedDict({'linear_layer.weight': tensor([[0.6929]], device='cuda:0'), 'linear_layer.bias': tensor([0.2925], device='cuda:0')})\n",
            "Epoch: 130 | Loss: 0.0012645035749301314 | Test Loss: 0.013801801018416882\n",
            "OrderedDict({'linear_layer.weight': tensor([[0.6929]], device='cuda:0'), 'linear_layer.bias': tensor([0.2925], device='cuda:0')})\n",
            "Epoch: 140 | Loss: 0.0012645035749301314 | Test Loss: 0.013801801018416882\n",
            "OrderedDict({'linear_layer.weight': tensor([[0.6929]], device='cuda:0'), 'linear_layer.bias': tensor([0.2925], device='cuda:0')})\n",
            "Epoch: 150 | Loss: 0.0012645035749301314 | Test Loss: 0.013801801018416882\n",
            "OrderedDict({'linear_layer.weight': tensor([[0.6929]], device='cuda:0'), 'linear_layer.bias': tensor([0.2925], device='cuda:0')})\n",
            "Epoch: 160 | Loss: 0.0012645035749301314 | Test Loss: 0.013801801018416882\n",
            "OrderedDict({'linear_layer.weight': tensor([[0.6929]], device='cuda:0'), 'linear_layer.bias': tensor([0.2925], device='cuda:0')})\n",
            "Epoch: 170 | Loss: 0.0012645035749301314 | Test Loss: 0.013801801018416882\n",
            "OrderedDict({'linear_layer.weight': tensor([[0.6929]], device='cuda:0'), 'linear_layer.bias': tensor([0.2925], device='cuda:0')})\n",
            "Epoch: 180 | Loss: 0.0012645035749301314 | Test Loss: 0.013801801018416882\n",
            "OrderedDict({'linear_layer.weight': tensor([[0.6929]], device='cuda:0'), 'linear_layer.bias': tensor([0.2925], device='cuda:0')})\n",
            "Epoch: 190 | Loss: 0.0012645035749301314 | Test Loss: 0.013801801018416882\n",
            "OrderedDict({'linear_layer.weight': tensor([[0.6929]], device='cuda:0'), 'linear_layer.bias': tensor([0.2925], device='cuda:0')})\n"
          ]
        }
      ],
      "source": [
        "# Let's write a training loop\n",
        "torch.manual_seed(42)\n",
        "\n",
        "epochs = 200\n",
        "\n",
        "# Put data on the target device (device agnostic code for data) )\n",
        "X_train = X_train.to(device)\n",
        "y_train = y_train.to(device)\n",
        "X_test = X_test.to(device)\n",
        "y_test = y_test.to(device)\n",
        "\n",
        "for epoch in range(epochs):\n",
        "  model_1.train()\n",
        "  y_pred = model_1(X_train)\n",
        "  loss = loss_fn(y_pred, y_train)\n",
        "  optimizer.zero_grad()\n",
        "  loss.backward()\n",
        "  optimizer.step()\n",
        "\n",
        "  # Testing\n",
        "  model_1.eval()\n",
        "  with torch.inference_mode():\n",
        "    test_pred = model_1(X_test)\n",
        "    test_loss = loss_fn(test_pred, y_test)\n",
        "  if epoch % 10 == 0:\n",
        "      print(f\"Epoch: {epoch} | Loss: {loss} | Test Loss: {test_loss}\")\n",
        "      print(model_1.state_dict())"
      ]
    },
    {
      "cell_type": "code",
      "source": [
        "model_1.eval()\n",
        "\n",
        "with torch.inference_mode():\n",
        "  y_preds = model_1(X_test)\n",
        "\n",
        "y_preds"
      ],
      "metadata": {
        "colab": {
          "base_uri": "https://localhost:8080/"
        },
        "id": "njhgI_ULud38",
        "outputId": "30dae31f-db85-4dc0-9194-feeb1f340730"
      },
      "execution_count": 39,
      "outputs": [
        {
          "output_type": "execute_result",
          "data": {
            "text/plain": [
              "tensor([[0.8600],\n",
              "        [0.8739],\n",
              "        [0.8878],\n",
              "        [0.9018],\n",
              "        [0.9157],\n",
              "        [0.9296],\n",
              "        [0.9436],\n",
              "        [0.9575],\n",
              "        [0.9714],\n",
              "        [0.9854]], device='cuda:0')"
            ]
          },
          "metadata": {},
          "execution_count": 39
        }
      ]
    },
    {
      "cell_type": "code",
      "source": [
        "plot_predictions(predictions=y_preds.cpu())"
      ],
      "metadata": {
        "colab": {
          "base_uri": "https://localhost:8080/",
          "height": 444
        },
        "id": "DMFGQA4A4aJ3",
        "outputId": "35227ebc-50fa-45e4-f717-5a825f6e01a7"
      },
      "execution_count": 42,
      "outputs": [
        {
          "output_type": "display_data",
          "data": {
            "text/plain": [
              "<Figure size 1000x700 with 1 Axes>"
            ],
            "image/png": "[encoded data removed]"
          },
          "metadata": {}
        }
      ]
    },
    {
      "cell_type": "markdown",
      "source": [
        "## 6.4 Saving and loading a trained model"
      ],
      "metadata": {
        "id": "LT6OK83kDFaQ"
      }
    },
    {
      "cell_type": "code",
      "source": [
        "from pathlib import Path\n",
        "\n",
        "MODEL_PATH = Path(\"models\")\n",
        "MODEL_PATH.mkdir(parents=True, exist_ok=True)\n",
        "\n",
        "MODEL_NAME = \"PyTorch_Workflow_Model_1.pth\"\n",
        "MODEL_SAVE_PATH = MODEL_PATH / MODEL_NAME\n",
        "torch.save(obj=model_1.state_dict(),\n",
        "           f=MODEL_SAVE_PATH)\n",
        "print(f'Saving model to: {MODEL_SAVE_PATH}')\n"
      ],
      "metadata": {
        "colab": {
          "base_uri": "https://localhost:8080/"
        },
        "id": "GE4WeLQ2Engf",
        "outputId": "6eb22150-1c19-4662-c7cb-15c947181037"
      },
      "execution_count": 48,
      "outputs": [
        {
          "output_type": "stream",
          "name": "stdout",
          "text": [
            "Saving model to: models/PyTorch_Workflow_Model_1.pth\n"
          ]
        }
      ]
    },
    {
      "cell_type": "code",
      "source": [
        "loaded_model_1 = LinearRegressionModelV2()\n",
        "loaded_model_1.load_state_dict(torch.load(f=MODEL_SAVE_PATH))\n",
        "loaded_model_1.to(device)"
      ],
      "metadata": {
        "colab": {
          "base_uri": "https://localhost:8080/"
        },
        "id": "Fn9xQ4dFIXCj",
        "outputId": "bcd272d6-0b27-428f-8391-83e1dfa9c375"
      },
      "execution_count": 58,
      "outputs": [
        {
          "output_type": "execute_result",
          "data": {
            "text/plain": [
              "LinearRegressionModelV2(\n",
              "  (linear_layer): Linear(in_features=1, out_features=1, bias=True)\n",
              ")"
            ]
          },
          "metadata": {},
          "execution_count": 58
        }
      ]
    },
    {
      "cell_type": "code",
      "source": [
        "next(loaded_model_1.parameters()).device"
      ],
      "metadata": {
        "colab": {
          "base_uri": "https://localhost:8080/"
        },
        "id": "4GsEffp4L-K6",
        "outputId": "a39b9017-eb09-4a03-ecd9-68998f88c5ba"
      },
      "execution_count": 59,
      "outputs": [
        {
          "output_type": "execute_result",
          "data": {
            "text/plain": [
              "device(type='cuda', index=0)"
            ]
          },
          "metadata": {},
          "execution_count": 59
        }
      ]
    },
    {
      "cell_type": "code",
      "source": [
        "# Evaluate loaded model 1\n",
        "loaded_model_1.eval()\n",
        "with torch.inference_mode():\n",
        "  loaded_model_1_preds = loaded_model_1(X_test)\n",
        "\n",
        "loaded_model_1_preds == y_preds"
      ],
      "metadata": {
        "colab": {
          "base_uri": "https://localhost:8080/"
        },
        "id": "4DH-FObAM_Gz",
        "outputId": "546737ac-5de8-4412-d435-c5fa00f702d3"
      },
      "execution_count": 61,
      "outputs": [
        {
          "output_type": "execute_result",
          "data": {
            "text/plain": [
              "tensor([[True],\n",
              "        [True],\n",
              "        [True],\n",
              "        [True],\n",
              "        [True],\n",
              "        [True],\n",
              "        [True],\n",
              "        [True],\n",
              "        [True],\n",
              "        [True]], device='cuda:0')"
            ]
          },
          "metadata": {},
          "execution_count": 61
        }
      ]
    },
    {
      "cell_type": "code",
      "source": [],
      "metadata": {
        "id": "QbsdT0WKNTfE"
      },
      "execution_count": null,
      "outputs": []
    }
  ],
  "metadata": {
    "accelerator": "GPU",
    "colab": {
      "gpuType": "T4",
      "provenance": [],
      "authorship_tag": "ABX9TyNtn3HPkkxNaIC1J0AsoiZa",
      "include_colab_link": true
    },
    "kernelspec": {
      "display_name": "Python 3",
      "name": "python3"
    },
    "language_info": {
      "name": "python"
    }
  },
  "nbformat": 4,
  "nbformat_minor": 0
}